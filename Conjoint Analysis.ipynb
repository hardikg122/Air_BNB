{
 "cells": [
  {
   "cell_type": "code",
   "execution_count": 1,
   "id": "a85a8e65",
   "metadata": {},
   "outputs": [],
   "source": [
    "import numpy as np\n",
    "import pandas as pd\n",
    "import matplotlib.pyplot as plt\n",
    "import seaborn as sns\n",
    "import random\n",
    "random.seed(654)"
   ]
  },
  {
   "cell_type": "markdown",
   "id": "f5e3f3ea",
   "metadata": {},
   "source": [
    "Import the data set."
   ]
  },
  {
   "cell_type": "code",
   "execution_count": 2,
   "id": "e77d0cd6",
   "metadata": {},
   "outputs": [
    {
     "data": {
      "text/html": [
       "<div>\n",
       "<style scoped>\n",
       "    .dataframe tbody tr th:only-of-type {\n",
       "        vertical-align: middle;\n",
       "    }\n",
       "\n",
       "    .dataframe tbody tr th {\n",
       "        vertical-align: top;\n",
       "    }\n",
       "\n",
       "    .dataframe thead th {\n",
       "        text-align: right;\n",
       "    }\n",
       "</style>\n",
       "<table border=\"1\" class=\"dataframe\">\n",
       "  <thead>\n",
       "    <tr style=\"text-align: right;\">\n",
       "      <th></th>\n",
       "      <th>bundleID</th>\n",
       "      <th>starter</th>\n",
       "      <th>maindishI</th>\n",
       "      <th>maindishII</th>\n",
       "      <th>side</th>\n",
       "      <th>dessert</th>\n",
       "      <th>avg_rating</th>\n",
       "    </tr>\n",
       "  </thead>\n",
       "  <tbody>\n",
       "    <tr>\n",
       "      <th>0</th>\n",
       "      <td>1</td>\n",
       "      <td>Fried Chicken Tenders</td>\n",
       "      <td>BBQ Brisket</td>\n",
       "      <td>Sausage</td>\n",
       "      <td>Mac and Cheese</td>\n",
       "      <td>Blondie Brownie</td>\n",
       "      <td>6.04</td>\n",
       "    </tr>\n",
       "    <tr>\n",
       "      <th>1</th>\n",
       "      <td>2</td>\n",
       "      <td>Fried Chicken Tenders</td>\n",
       "      <td>BBQ Brisket</td>\n",
       "      <td>Sausage</td>\n",
       "      <td>Mac and Cheese</td>\n",
       "      <td>Apple Pie a la Mode</td>\n",
       "      <td>9.29</td>\n",
       "    </tr>\n",
       "    <tr>\n",
       "      <th>2</th>\n",
       "      <td>3</td>\n",
       "      <td>Fried Chicken Tenders</td>\n",
       "      <td>BBQ Brisket</td>\n",
       "      <td>Sausage</td>\n",
       "      <td>Potato Salad</td>\n",
       "      <td>Blondie Brownie</td>\n",
       "      <td>6.20</td>\n",
       "    </tr>\n",
       "    <tr>\n",
       "      <th>3</th>\n",
       "      <td>4</td>\n",
       "      <td>Fried Chicken Tenders</td>\n",
       "      <td>BBQ Brisket</td>\n",
       "      <td>Sausage</td>\n",
       "      <td>Potato Salad</td>\n",
       "      <td>Apple Pie a la Mode</td>\n",
       "      <td>8.84</td>\n",
       "    </tr>\n",
       "    <tr>\n",
       "      <th>4</th>\n",
       "      <td>5</td>\n",
       "      <td>Fried Chicken Tenders</td>\n",
       "      <td>BBQ Brisket</td>\n",
       "      <td>Sausage</td>\n",
       "      <td>French Fry Platter</td>\n",
       "      <td>Blondie Brownie</td>\n",
       "      <td>8.24</td>\n",
       "    </tr>\n",
       "  </tbody>\n",
       "</table>\n",
       "</div>"
      ],
      "text/plain": [
       "   bundleID                starter    maindishI maindishII  \\\n",
       "0         1  Fried Chicken Tenders  BBQ Brisket    Sausage   \n",
       "1         2  Fried Chicken Tenders  BBQ Brisket    Sausage   \n",
       "2         3  Fried Chicken Tenders  BBQ Brisket    Sausage   \n",
       "3         4  Fried Chicken Tenders  BBQ Brisket    Sausage   \n",
       "4         5  Fried Chicken Tenders  BBQ Brisket    Sausage   \n",
       "\n",
       "                 side              dessert  avg_rating  \n",
       "0      Mac and Cheese      Blondie Brownie        6.04  \n",
       "1      Mac and Cheese  Apple Pie a la Mode        9.29  \n",
       "2        Potato Salad      Blondie Brownie        6.20  \n",
       "3        Potato Salad  Apple Pie a la Mode        8.84  \n",
       "4  French Fry Platter      Blondie Brownie        8.24  "
      ]
     },
     "execution_count": 2,
     "metadata": {},
     "output_type": "execute_result"
    }
   ],
   "source": [
    "bbq = pd.read_csv('bbq_summer.csv')\n",
    "bbq.head()"
   ]
  },
  {
   "cell_type": "markdown",
   "id": "65438e3e",
   "metadata": {},
   "source": [
    "Remove the index."
   ]
  },
  {
   "cell_type": "code",
   "execution_count": 3,
   "id": "49780eae",
   "metadata": {},
   "outputs": [
    {
     "data": {
      "text/html": [
       "<div>\n",
       "<style scoped>\n",
       "    .dataframe tbody tr th:only-of-type {\n",
       "        vertical-align: middle;\n",
       "    }\n",
       "\n",
       "    .dataframe tbody tr th {\n",
       "        vertical-align: top;\n",
       "    }\n",
       "\n",
       "    .dataframe thead th {\n",
       "        text-align: right;\n",
       "    }\n",
       "</style>\n",
       "<table border=\"1\" class=\"dataframe\">\n",
       "  <thead>\n",
       "    <tr style=\"text-align: right;\">\n",
       "      <th></th>\n",
       "      <th>starter</th>\n",
       "      <th>maindishI</th>\n",
       "      <th>maindishII</th>\n",
       "      <th>side</th>\n",
       "      <th>dessert</th>\n",
       "      <th>avg_rating</th>\n",
       "    </tr>\n",
       "  </thead>\n",
       "  <tbody>\n",
       "    <tr>\n",
       "      <th>0</th>\n",
       "      <td>Fried Chicken Tenders</td>\n",
       "      <td>BBQ Brisket</td>\n",
       "      <td>Sausage</td>\n",
       "      <td>Mac and Cheese</td>\n",
       "      <td>Blondie Brownie</td>\n",
       "      <td>6.04</td>\n",
       "    </tr>\n",
       "    <tr>\n",
       "      <th>1</th>\n",
       "      <td>Fried Chicken Tenders</td>\n",
       "      <td>BBQ Brisket</td>\n",
       "      <td>Sausage</td>\n",
       "      <td>Mac and Cheese</td>\n",
       "      <td>Apple Pie a la Mode</td>\n",
       "      <td>9.29</td>\n",
       "    </tr>\n",
       "    <tr>\n",
       "      <th>2</th>\n",
       "      <td>Fried Chicken Tenders</td>\n",
       "      <td>BBQ Brisket</td>\n",
       "      <td>Sausage</td>\n",
       "      <td>Potato Salad</td>\n",
       "      <td>Blondie Brownie</td>\n",
       "      <td>6.20</td>\n",
       "    </tr>\n",
       "    <tr>\n",
       "      <th>3</th>\n",
       "      <td>Fried Chicken Tenders</td>\n",
       "      <td>BBQ Brisket</td>\n",
       "      <td>Sausage</td>\n",
       "      <td>Potato Salad</td>\n",
       "      <td>Apple Pie a la Mode</td>\n",
       "      <td>8.84</td>\n",
       "    </tr>\n",
       "    <tr>\n",
       "      <th>4</th>\n",
       "      <td>Fried Chicken Tenders</td>\n",
       "      <td>BBQ Brisket</td>\n",
       "      <td>Sausage</td>\n",
       "      <td>French Fry Platter</td>\n",
       "      <td>Blondie Brownie</td>\n",
       "      <td>8.24</td>\n",
       "    </tr>\n",
       "  </tbody>\n",
       "</table>\n",
       "</div>"
      ],
      "text/plain": [
       "                 starter    maindishI maindishII                side  \\\n",
       "0  Fried Chicken Tenders  BBQ Brisket    Sausage      Mac and Cheese   \n",
       "1  Fried Chicken Tenders  BBQ Brisket    Sausage      Mac and Cheese   \n",
       "2  Fried Chicken Tenders  BBQ Brisket    Sausage        Potato Salad   \n",
       "3  Fried Chicken Tenders  BBQ Brisket    Sausage        Potato Salad   \n",
       "4  Fried Chicken Tenders  BBQ Brisket    Sausage  French Fry Platter   \n",
       "\n",
       "               dessert  avg_rating  \n",
       "0      Blondie Brownie        6.04  \n",
       "1  Apple Pie a la Mode        9.29  \n",
       "2      Blondie Brownie        6.20  \n",
       "3  Apple Pie a la Mode        8.84  \n",
       "4      Blondie Brownie        8.24  "
      ]
     },
     "execution_count": 3,
     "metadata": {},
     "output_type": "execute_result"
    }
   ],
   "source": [
    "bbq = bbq.drop(columns='bundleID')\n",
    "bbq.head()"
   ]
  },
  {
   "cell_type": "code",
   "execution_count": 4,
   "id": "4c8cc780",
   "metadata": {},
   "outputs": [
    {
     "name": "stdout",
     "output_type": "stream",
     "text": [
      "<class 'pandas.core.frame.DataFrame'>\n",
      "RangeIndex: 384 entries, 0 to 383\n",
      "Data columns (total 6 columns):\n",
      " #   Column      Non-Null Count  Dtype  \n",
      "---  ------      --------------  -----  \n",
      " 0   starter     384 non-null    object \n",
      " 1   maindishI   384 non-null    object \n",
      " 2   maindishII  384 non-null    object \n",
      " 3   side        384 non-null    object \n",
      " 4   dessert     384 non-null    object \n",
      " 5   avg_rating  384 non-null    float64\n",
      "dtypes: float64(1), object(5)\n",
      "memory usage: 18.1+ KB\n"
     ]
    }
   ],
   "source": [
    "bbq.info()"
   ]
  },
  {
   "cell_type": "markdown",
   "id": "ee92f311",
   "metadata": {},
   "source": [
    "Besides \"avg_rating\", all variables are categorical."
   ]
  },
  {
   "cell_type": "code",
   "execution_count": 5,
   "id": "ea5cc449",
   "metadata": {},
   "outputs": [
    {
     "data": {
      "text/html": [
       "<div>\n",
       "<style scoped>\n",
       "    .dataframe tbody tr th:only-of-type {\n",
       "        vertical-align: middle;\n",
       "    }\n",
       "\n",
       "    .dataframe tbody tr th {\n",
       "        vertical-align: top;\n",
       "    }\n",
       "\n",
       "    .dataframe thead th {\n",
       "        text-align: right;\n",
       "    }\n",
       "</style>\n",
       "<table border=\"1\" class=\"dataframe\">\n",
       "  <thead>\n",
       "    <tr style=\"text-align: right;\">\n",
       "      <th></th>\n",
       "      <th>avg_rating</th>\n",
       "    </tr>\n",
       "  </thead>\n",
       "  <tbody>\n",
       "    <tr>\n",
       "      <th>count</th>\n",
       "      <td>384.000000</td>\n",
       "    </tr>\n",
       "    <tr>\n",
       "      <th>mean</th>\n",
       "      <td>7.291298</td>\n",
       "    </tr>\n",
       "    <tr>\n",
       "      <th>std</th>\n",
       "      <td>1.740623</td>\n",
       "    </tr>\n",
       "    <tr>\n",
       "      <th>min</th>\n",
       "      <td>1.690000</td>\n",
       "    </tr>\n",
       "    <tr>\n",
       "      <th>25%</th>\n",
       "      <td>6.065000</td>\n",
       "    </tr>\n",
       "    <tr>\n",
       "      <th>50%</th>\n",
       "      <td>7.520000</td>\n",
       "    </tr>\n",
       "    <tr>\n",
       "      <th>75%</th>\n",
       "      <td>8.746000</td>\n",
       "    </tr>\n",
       "    <tr>\n",
       "      <th>max</th>\n",
       "      <td>9.940000</td>\n",
       "    </tr>\n",
       "  </tbody>\n",
       "</table>\n",
       "</div>"
      ],
      "text/plain": [
       "       avg_rating\n",
       "count  384.000000\n",
       "mean     7.291298\n",
       "std      1.740623\n",
       "min      1.690000\n",
       "25%      6.065000\n",
       "50%      7.520000\n",
       "75%      8.746000\n",
       "max      9.940000"
      ]
     },
     "execution_count": 5,
     "metadata": {},
     "output_type": "execute_result"
    }
   ],
   "source": [
    "bbq.describe()"
   ]
  },
  {
   "cell_type": "markdown",
   "id": "ef28d728",
   "metadata": {},
   "source": [
    "The mean value for average rating is 7.29, with a standard deviation of 1.74. Since the mean is lower than the median, the average rating is left-skewed. "
   ]
  },
  {
   "cell_type": "markdown",
   "id": "aaa54ac7",
   "metadata": {},
   "source": [
    "Dummify the categorical variables."
   ]
  },
  {
   "cell_type": "code",
   "execution_count": 6,
   "id": "194ffdeb",
   "metadata": {},
   "outputs": [
    {
     "data": {
      "text/html": [
       "<div>\n",
       "<style scoped>\n",
       "    .dataframe tbody tr th:only-of-type {\n",
       "        vertical-align: middle;\n",
       "    }\n",
       "\n",
       "    .dataframe tbody tr th {\n",
       "        vertical-align: top;\n",
       "    }\n",
       "\n",
       "    .dataframe thead th {\n",
       "        text-align: right;\n",
       "    }\n",
       "</style>\n",
       "<table border=\"1\" class=\"dataframe\">\n",
       "  <thead>\n",
       "    <tr style=\"text-align: right;\">\n",
       "      <th></th>\n",
       "      <th>avg_rating</th>\n",
       "      <th>starter_Fried Chicken Tenders</th>\n",
       "      <th>starter_Jumbo Shrimp Cocktail</th>\n",
       "      <th>starter_Sticky Chicken Tenders</th>\n",
       "      <th>maindishI_BBQ Chicken</th>\n",
       "      <th>maindishI_Buffalo Chicken Macaroni Stacker</th>\n",
       "      <th>maindishI_Pulled Pork</th>\n",
       "      <th>maindishII_Lobster Roll</th>\n",
       "      <th>maindishII_Sausage</th>\n",
       "      <th>maindishII_Steak Sampler</th>\n",
       "      <th>side_Mac and Cheese</th>\n",
       "      <th>side_Potato Salad</th>\n",
       "      <th>dessert_Blondie Brownie</th>\n",
       "    </tr>\n",
       "  </thead>\n",
       "  <tbody>\n",
       "    <tr>\n",
       "      <th>0</th>\n",
       "      <td>6.04</td>\n",
       "      <td>1</td>\n",
       "      <td>0</td>\n",
       "      <td>0</td>\n",
       "      <td>0</td>\n",
       "      <td>0</td>\n",
       "      <td>0</td>\n",
       "      <td>0</td>\n",
       "      <td>1</td>\n",
       "      <td>0</td>\n",
       "      <td>1</td>\n",
       "      <td>0</td>\n",
       "      <td>1</td>\n",
       "    </tr>\n",
       "    <tr>\n",
       "      <th>1</th>\n",
       "      <td>9.29</td>\n",
       "      <td>1</td>\n",
       "      <td>0</td>\n",
       "      <td>0</td>\n",
       "      <td>0</td>\n",
       "      <td>0</td>\n",
       "      <td>0</td>\n",
       "      <td>0</td>\n",
       "      <td>1</td>\n",
       "      <td>0</td>\n",
       "      <td>1</td>\n",
       "      <td>0</td>\n",
       "      <td>0</td>\n",
       "    </tr>\n",
       "    <tr>\n",
       "      <th>2</th>\n",
       "      <td>6.20</td>\n",
       "      <td>1</td>\n",
       "      <td>0</td>\n",
       "      <td>0</td>\n",
       "      <td>0</td>\n",
       "      <td>0</td>\n",
       "      <td>0</td>\n",
       "      <td>0</td>\n",
       "      <td>1</td>\n",
       "      <td>0</td>\n",
       "      <td>0</td>\n",
       "      <td>1</td>\n",
       "      <td>1</td>\n",
       "    </tr>\n",
       "    <tr>\n",
       "      <th>3</th>\n",
       "      <td>8.84</td>\n",
       "      <td>1</td>\n",
       "      <td>0</td>\n",
       "      <td>0</td>\n",
       "      <td>0</td>\n",
       "      <td>0</td>\n",
       "      <td>0</td>\n",
       "      <td>0</td>\n",
       "      <td>1</td>\n",
       "      <td>0</td>\n",
       "      <td>0</td>\n",
       "      <td>1</td>\n",
       "      <td>0</td>\n",
       "    </tr>\n",
       "    <tr>\n",
       "      <th>4</th>\n",
       "      <td>8.24</td>\n",
       "      <td>1</td>\n",
       "      <td>0</td>\n",
       "      <td>0</td>\n",
       "      <td>0</td>\n",
       "      <td>0</td>\n",
       "      <td>0</td>\n",
       "      <td>0</td>\n",
       "      <td>1</td>\n",
       "      <td>0</td>\n",
       "      <td>0</td>\n",
       "      <td>0</td>\n",
       "      <td>1</td>\n",
       "    </tr>\n",
       "  </tbody>\n",
       "</table>\n",
       "</div>"
      ],
      "text/plain": [
       "   avg_rating  starter_Fried Chicken Tenders  starter_Jumbo Shrimp Cocktail  \\\n",
       "0        6.04                              1                              0   \n",
       "1        9.29                              1                              0   \n",
       "2        6.20                              1                              0   \n",
       "3        8.84                              1                              0   \n",
       "4        8.24                              1                              0   \n",
       "\n",
       "   starter_Sticky Chicken Tenders  maindishI_BBQ Chicken  \\\n",
       "0                               0                      0   \n",
       "1                               0                      0   \n",
       "2                               0                      0   \n",
       "3                               0                      0   \n",
       "4                               0                      0   \n",
       "\n",
       "   maindishI_Buffalo Chicken Macaroni Stacker  maindishI_Pulled Pork  \\\n",
       "0                                           0                      0   \n",
       "1                                           0                      0   \n",
       "2                                           0                      0   \n",
       "3                                           0                      0   \n",
       "4                                           0                      0   \n",
       "\n",
       "   maindishII_Lobster Roll  maindishII_Sausage  maindishII_Steak Sampler  \\\n",
       "0                        0                   1                         0   \n",
       "1                        0                   1                         0   \n",
       "2                        0                   1                         0   \n",
       "3                        0                   1                         0   \n",
       "4                        0                   1                         0   \n",
       "\n",
       "   side_Mac and Cheese  side_Potato Salad  dessert_Blondie Brownie  \n",
       "0                    1                  0                        1  \n",
       "1                    1                  0                        0  \n",
       "2                    0                  1                        1  \n",
       "3                    0                  1                        0  \n",
       "4                    0                  0                        1  "
      ]
     },
     "execution_count": 6,
     "metadata": {},
     "output_type": "execute_result"
    }
   ],
   "source": [
    "bbq = pd.get_dummies(bbq, drop_first=True, columns=['starter','maindishI','maindishII','side','dessert'])\n",
    "bbq.head()"
   ]
  },
  {
   "cell_type": "markdown",
   "id": "9ef42fdc",
   "metadata": {},
   "source": [
    "Build a linear model."
   ]
  },
  {
   "cell_type": "code",
   "execution_count": 7,
   "id": "05b51b7d",
   "metadata": {},
   "outputs": [
    {
     "data": {
      "text/plain": [
       "Index(['avg_rating', 'starter_Fried Chicken Tenders',\n",
       "       'starter_Jumbo Shrimp Cocktail', 'starter_Sticky Chicken Tenders',\n",
       "       'maindishI_BBQ Chicken', 'maindishI_Buffalo Chicken Macaroni Stacker',\n",
       "       'maindishI_Pulled Pork', 'maindishII_Lobster Roll',\n",
       "       'maindishII_Sausage', 'maindishII_Steak Sampler', 'side_Mac and Cheese',\n",
       "       'side_Potato Salad', 'dessert_Blondie Brownie'],\n",
       "      dtype='object')"
      ]
     },
     "execution_count": 7,
     "metadata": {},
     "output_type": "execute_result"
    }
   ],
   "source": [
    "bbq.columns"
   ]
  },
  {
   "cell_type": "code",
   "execution_count": 8,
   "id": "780d521e",
   "metadata": {},
   "outputs": [],
   "source": [
    "X = bbq[['starter_Fried Chicken Tenders',\n",
    "       'starter_Jumbo Shrimp Cocktail', 'starter_Sticky Chicken Tenders',\n",
    "       'maindishI_BBQ Chicken', 'maindishI_Buffalo Chicken Macaroni Stacker',\n",
    "       'maindishI_Pulled Pork', 'maindishII_Lobster Roll',\n",
    "       'maindishII_Sausage', 'maindishII_Steak Sampler', 'side_Mac and Cheese',\n",
    "       'side_Potato Salad', 'dessert_Blondie Brownie']]\n",
    "y = bbq['avg_rating']"
   ]
  },
  {
   "cell_type": "code",
   "execution_count": 9,
   "id": "8ec4e541",
   "metadata": {},
   "outputs": [
    {
     "data": {
      "text/plain": [
       "LinearRegression()"
      ]
     },
     "execution_count": 9,
     "metadata": {},
     "output_type": "execute_result"
    }
   ],
   "source": [
    "from sklearn.linear_model import LinearRegression\n",
    "from sklearn import metrics\n",
    "\n",
    "regressor = LinearRegression()\n",
    "regressor.fit(X,y)"
   ]
  },
  {
   "cell_type": "markdown",
   "id": "25fd7a36",
   "metadata": {},
   "source": [
    "Display the coefficient values."
   ]
  },
  {
   "cell_type": "code",
   "execution_count": 10,
   "id": "7a272639",
   "metadata": {},
   "outputs": [
    {
     "data": {
      "text/html": [
       "<div>\n",
       "<style scoped>\n",
       "    .dataframe tbody tr th:only-of-type {\n",
       "        vertical-align: middle;\n",
       "    }\n",
       "\n",
       "    .dataframe tbody tr th {\n",
       "        vertical-align: top;\n",
       "    }\n",
       "\n",
       "    .dataframe thead th {\n",
       "        text-align: right;\n",
       "    }\n",
       "</style>\n",
       "<table border=\"1\" class=\"dataframe\">\n",
       "  <thead>\n",
       "    <tr style=\"text-align: right;\">\n",
       "      <th></th>\n",
       "      <th>Coefficients</th>\n",
       "    </tr>\n",
       "  </thead>\n",
       "  <tbody>\n",
       "    <tr>\n",
       "      <th>starter_Fried Chicken Tenders</th>\n",
       "      <td>0.133571</td>\n",
       "    </tr>\n",
       "    <tr>\n",
       "      <th>starter_Jumbo Shrimp Cocktail</th>\n",
       "      <td>-0.630587</td>\n",
       "    </tr>\n",
       "    <tr>\n",
       "      <th>starter_Sticky Chicken Tenders</th>\n",
       "      <td>0.339275</td>\n",
       "    </tr>\n",
       "    <tr>\n",
       "      <th>maindishI_BBQ Chicken</th>\n",
       "      <td>-0.209208</td>\n",
       "    </tr>\n",
       "    <tr>\n",
       "      <th>maindishI_Buffalo Chicken Macaroni Stacker</th>\n",
       "      <td>0.536821</td>\n",
       "    </tr>\n",
       "    <tr>\n",
       "      <th>maindishI_Pulled Pork</th>\n",
       "      <td>0.529313</td>\n",
       "    </tr>\n",
       "    <tr>\n",
       "      <th>maindishII_Lobster Roll</th>\n",
       "      <td>1.048096</td>\n",
       "    </tr>\n",
       "    <tr>\n",
       "      <th>maindishII_Sausage</th>\n",
       "      <td>0.331992</td>\n",
       "    </tr>\n",
       "    <tr>\n",
       "      <th>maindishII_Steak Sampler</th>\n",
       "      <td>-0.500463</td>\n",
       "    </tr>\n",
       "    <tr>\n",
       "      <th>side_Mac and Cheese</th>\n",
       "      <td>0.575125</td>\n",
       "    </tr>\n",
       "    <tr>\n",
       "      <th>side_Potato Salad</th>\n",
       "      <td>-0.022194</td>\n",
       "    </tr>\n",
       "    <tr>\n",
       "      <th>dessert_Blondie Brownie</th>\n",
       "      <td>-0.856204</td>\n",
       "    </tr>\n",
       "  </tbody>\n",
       "</table>\n",
       "</div>"
      ],
      "text/plain": [
       "                                            Coefficients\n",
       "starter_Fried Chicken Tenders                   0.133571\n",
       "starter_Jumbo Shrimp Cocktail                  -0.630587\n",
       "starter_Sticky Chicken Tenders                  0.339275\n",
       "maindishI_BBQ Chicken                          -0.209208\n",
       "maindishI_Buffalo Chicken Macaroni Stacker      0.536821\n",
       "maindishI_Pulled Pork                           0.529313\n",
       "maindishII_Lobster Roll                         1.048096\n",
       "maindishII_Sausage                              0.331992\n",
       "maindishII_Steak Sampler                       -0.500463\n",
       "side_Mac and Cheese                             0.575125\n",
       "side_Potato Salad                              -0.022194\n",
       "dessert_Blondie Brownie                        -0.856204"
      ]
     },
     "execution_count": 10,
     "metadata": {},
     "output_type": "execute_result"
    }
   ],
   "source": [
    "coef_df = pd.DataFrame(regressor.coef_, X.columns, columns=['Coefficients'])\n",
    "coef_df"
   ]
  },
  {
   "cell_type": "markdown",
   "id": "50d34274",
   "metadata": {},
   "source": [
    "Optimal bundle:\n",
    "\n",
    "starter: Sticky Chicken Tenders\n",
    "\n",
    "maindish I: Buffalo Chicken Macaroni Stacker\n",
    "\n",
    "maindish II: Lobster Roll\n",
    "\n",
    "side: Mac and Cheese\n",
    "\n",
    "dessert: Apple Pie a la Mode"
   ]
  },
  {
   "cell_type": "code",
   "execution_count": 11,
   "id": "db4e37ad",
   "metadata": {},
   "outputs": [
    {
     "data": {
      "text/html": [
       "<div>\n",
       "<style scoped>\n",
       "    .dataframe tbody tr th:only-of-type {\n",
       "        vertical-align: middle;\n",
       "    }\n",
       "\n",
       "    .dataframe tbody tr th {\n",
       "        vertical-align: top;\n",
       "    }\n",
       "\n",
       "    .dataframe thead th {\n",
       "        text-align: right;\n",
       "    }\n",
       "</style>\n",
       "<table border=\"1\" class=\"dataframe\">\n",
       "  <thead>\n",
       "    <tr style=\"text-align: right;\">\n",
       "      <th></th>\n",
       "      <th>Item</th>\n",
       "      <th>Item Category</th>\n",
       "      <th>Cost Per Serving (Dollars)</th>\n",
       "    </tr>\n",
       "  </thead>\n",
       "  <tbody>\n",
       "    <tr>\n",
       "      <th>0</th>\n",
       "      <td>Fried Chicken Tenders</td>\n",
       "      <td>Starters</td>\n",
       "      <td>3.40</td>\n",
       "    </tr>\n",
       "    <tr>\n",
       "      <th>1</th>\n",
       "      <td>Bacon Fries</td>\n",
       "      <td>Starters</td>\n",
       "      <td>3.10</td>\n",
       "    </tr>\n",
       "    <tr>\n",
       "      <th>2</th>\n",
       "      <td>Sticky Chicken Tenders</td>\n",
       "      <td>Starters</td>\n",
       "      <td>2.90</td>\n",
       "    </tr>\n",
       "    <tr>\n",
       "      <th>3</th>\n",
       "      <td>Jumbo Shrimp Cocktail</td>\n",
       "      <td>Starters</td>\n",
       "      <td>4.60</td>\n",
       "    </tr>\n",
       "    <tr>\n",
       "      <th>4</th>\n",
       "      <td>BBQ Brisket</td>\n",
       "      <td>Main Dish I</td>\n",
       "      <td>6.00</td>\n",
       "    </tr>\n",
       "    <tr>\n",
       "      <th>5</th>\n",
       "      <td>Pulled Pork</td>\n",
       "      <td>Main Dish I</td>\n",
       "      <td>5.70</td>\n",
       "    </tr>\n",
       "    <tr>\n",
       "      <th>6</th>\n",
       "      <td>BBQ Chicken</td>\n",
       "      <td>Main Dish I</td>\n",
       "      <td>5.30</td>\n",
       "    </tr>\n",
       "    <tr>\n",
       "      <th>7</th>\n",
       "      <td>Buffalo Chicken Macaroni Stacker</td>\n",
       "      <td>Main Dish I</td>\n",
       "      <td>6.10</td>\n",
       "    </tr>\n",
       "    <tr>\n",
       "      <th>8</th>\n",
       "      <td>Sausage</td>\n",
       "      <td>Main Dish II</td>\n",
       "      <td>4.70</td>\n",
       "    </tr>\n",
       "    <tr>\n",
       "      <th>9</th>\n",
       "      <td>Lobster Roll</td>\n",
       "      <td>Main Dish II</td>\n",
       "      <td>5.20</td>\n",
       "    </tr>\n",
       "    <tr>\n",
       "      <th>10</th>\n",
       "      <td>Beef Short Ribs</td>\n",
       "      <td>Main Dish II</td>\n",
       "      <td>6.00</td>\n",
       "    </tr>\n",
       "    <tr>\n",
       "      <th>11</th>\n",
       "      <td>Steak Sampler</td>\n",
       "      <td>Main Dish II</td>\n",
       "      <td>4.70</td>\n",
       "    </tr>\n",
       "    <tr>\n",
       "      <th>12</th>\n",
       "      <td>Mac and Cheese</td>\n",
       "      <td>Side</td>\n",
       "      <td>0.45</td>\n",
       "    </tr>\n",
       "    <tr>\n",
       "      <th>13</th>\n",
       "      <td>Potato Salad</td>\n",
       "      <td>Side</td>\n",
       "      <td>0.35</td>\n",
       "    </tr>\n",
       "    <tr>\n",
       "      <th>14</th>\n",
       "      <td>French Fry Platter</td>\n",
       "      <td>Side</td>\n",
       "      <td>0.15</td>\n",
       "    </tr>\n",
       "    <tr>\n",
       "      <th>15</th>\n",
       "      <td>Blondie Brownie</td>\n",
       "      <td>Dessert</td>\n",
       "      <td>0.90</td>\n",
       "    </tr>\n",
       "    <tr>\n",
       "      <th>16</th>\n",
       "      <td>Apple Pie a la Mode</td>\n",
       "      <td>Dessert</td>\n",
       "      <td>1.10</td>\n",
       "    </tr>\n",
       "  </tbody>\n",
       "</table>\n",
       "</div>"
      ],
      "text/plain": [
       "                                Item Item Category  Cost Per Serving (Dollars)\n",
       "0              Fried Chicken Tenders      Starters                        3.40\n",
       "1                        Bacon Fries      Starters                        3.10\n",
       "2             Sticky Chicken Tenders      Starters                        2.90\n",
       "3              Jumbo Shrimp Cocktail      Starters                        4.60\n",
       "4                        BBQ Brisket   Main Dish I                        6.00\n",
       "5                        Pulled Pork   Main Dish I                        5.70\n",
       "6                        BBQ Chicken   Main Dish I                        5.30\n",
       "7   Buffalo Chicken Macaroni Stacker   Main Dish I                        6.10\n",
       "8                            Sausage  Main Dish II                        4.70\n",
       "9                       Lobster Roll  Main Dish II                        5.20\n",
       "10                   Beef Short Ribs  Main Dish II                        6.00\n",
       "11                     Steak Sampler  Main Dish II                        4.70\n",
       "12                    Mac and Cheese          Side                        0.45\n",
       "13                      Potato Salad          Side                        0.35\n",
       "14                French Fry Platter          Side                        0.15\n",
       "15                   Blondie Brownie       Dessert                        0.90\n",
       "16               Apple Pie a la Mode       Dessert                        1.10"
      ]
     },
     "execution_count": 11,
     "metadata": {},
     "output_type": "execute_result"
    }
   ],
   "source": [
    "vendor_costs = pd.read_csv('vendor_costs_spring_2022 - Sheet1.csv')\n",
    "vendor_costs"
   ]
  },
  {
   "cell_type": "code",
   "execution_count": 12,
   "id": "7a30de42",
   "metadata": {},
   "outputs": [
    {
     "data": {
      "text/plain": [
       "15.749999999999998"
      ]
     },
     "execution_count": 12,
     "metadata": {},
     "output_type": "execute_result"
    }
   ],
   "source": [
    "2.90 + 6.10 + 5.20 + 0.45 + 1.10"
   ]
  },
  {
   "cell_type": "markdown",
   "id": "c9987153",
   "metadata": {},
   "source": [
    "The cost for the optimal bundle is $15.75."
   ]
  },
  {
   "cell_type": "code",
   "execution_count": 13,
   "id": "1ca92ce2",
   "metadata": {},
   "outputs": [
    {
     "data": {
      "text/plain": [
       "15.35"
      ]
     },
     "execution_count": 13,
     "metadata": {},
     "output_type": "execute_result"
    }
   ],
   "source": [
    "2.90 + 5.70 + 5.20 + 0.45 + 1.10"
   ]
  },
  {
   "cell_type": "markdown",
   "id": "0796c977",
   "metadata": {},
   "source": [
    "We decided to replace the first main dish with Pulled Port since it has similar influence on ratings but has a lower cost compared to Buffalo Chicken Macaroni Stacker.\n",
    "\n",
    "So the new bundle will be:\n",
    "\n",
    "starter: Sticky Chicken Tenders\n",
    "\n",
    "maindish I: Pulled Pork\n",
    "\n",
    "maindish II: Lobster Roll\n",
    "\n",
    "side: Mac and Cheese\n",
    "\n",
    "dessert: Apple Pie a la Mode"
   ]
  },
  {
   "cell_type": "markdown",
   "id": "339510f4",
   "metadata": {},
   "source": [
    "The cost for the bundle in which we use Pulled Pork to replace Buffalo Chicken Macaroni Stacker is $15.35."
   ]
  },
  {
   "cell_type": "code",
   "execution_count": 14,
   "id": "284963ff",
   "metadata": {},
   "outputs": [
    {
     "data": {
      "text/plain": [
       "0.6400000000000006"
      ]
     },
     "execution_count": 14,
     "metadata": {},
     "output_type": "execute_result"
    }
   ],
   "source": [
    "15.99 - (2.90 + 5.70 + 5.20 + 0.45 + 1.10)"
   ]
  },
  {
   "cell_type": "markdown",
   "id": "7064eb50",
   "metadata": {},
   "source": [
    "The profit margin for the standard bundle is $0.64."
   ]
  },
  {
   "cell_type": "markdown",
   "id": "438eab07",
   "metadata": {},
   "source": [
    "Create a kid's meal with only the starter (Sticky Chicken Tenders), a main dish (Lobster Roll), and the dessert (Apple Pie a la Mode). "
   ]
  },
  {
   "cell_type": "code",
   "execution_count": 15,
   "id": "00d812e9",
   "metadata": {},
   "outputs": [
    {
     "data": {
      "text/plain": [
       "9.2"
      ]
     },
     "execution_count": 15,
     "metadata": {},
     "output_type": "execute_result"
    }
   ],
   "source": [
    "2.90 + 5.20 + 1.10"
   ]
  },
  {
   "cell_type": "markdown",
   "id": "f9fa4b79",
   "metadata": {},
   "source": [
    "The cost for the kid's meal is $9.2."
   ]
  },
  {
   "cell_type": "code",
   "execution_count": 16,
   "id": "9c1d9b81",
   "metadata": {},
   "outputs": [
    {
     "data": {
      "text/plain": [
       "0.7900000000000009"
      ]
     },
     "execution_count": 16,
     "metadata": {},
     "output_type": "execute_result"
    }
   ],
   "source": [
    "9.99 - (2.90 + 5.20 + 1.10)"
   ]
  },
  {
   "cell_type": "markdown",
   "id": "b7dbc0b4",
   "metadata": {},
   "source": [
    "The profit margin for the kid's meal is $0.79."
   ]
  },
  {
   "cell_type": "markdown",
   "id": "95aeecd9",
   "metadata": {},
   "source": [
    "### Summer Grill Menu Strategies\n",
    "\n",
    "Lobster Land should position the Summer Grill Menu as a propagandistic event. It is unnecessary for the park to pursue large interests in this event. Still, Lobster Land should apply a pricing strategy that can fulfill the need for variable and setup cost recovery. \n",
    "\n",
    "The rating-based conjoint analysis suggests that selecting Sticky Chicken Tenders, Buffalo Chicken Macaroni Stacker, Lobster Roll, Mac and Cheese, and Apple Pie a la will best satisfy the visitors. This bundle incurs a cost of 15.75 dollars. Since Pulled Pork and Buffalo Chicken Macaroni Stacker almost contribute to the rating equally while Pulled Pork has a lower unit cost, it will be better for Lobster Land to replace the first main dish with Pulled Pork. Hence, the recommended options for Lobster Land to put in the Summer Grill Menu are Sticky Chicken Tenders, Pulled Pork, Lobster Roll, Mac and Cheese, and Apple Pie a la. The cost per bundle is 15.35 dollars.\n",
    "\n",
    "Lobster Land has always been an enjoyable spot for families. Therefore, besides the standard bundle, Lobster Land should apply a versioning strategy and push out a kid’s meal as well at a lower price with smaller serving size to serve the young visitors. The kid’s meal bundle should include Sticky Chicken Tenders as the starter, Lobster Roll as the main dish, and Apple Pie a la as the dessert. The cost per bundle is 9.2 dollars. \n",
    "\n",
    "To match up the design of the food bundles, Lobster Land should also adjust its pricing for this event. Because the cost of the standard meal exceeds 15 dollars, Lobster Land should raise the fee for the entrance of the Barbeque Tent. We suggest a Charm Pricing strategy by applying which Lobster Land can adjust the price of access to 15.99 dollars without discouraging the visitors from paying. For the kid’s meal, the unit price should be set similarly to 9.99 dollars. The profit margin is 0.64 dollars for the standard meal and 0.79 dollars for the kid’s meal. Lobster Land should also prepare enough penny coins to handle cash payment situations to get this strategy ready. "
   ]
  }
 ],
 "metadata": {
  "kernelspec": {
   "display_name": "Python 3 (ipykernel)",
   "language": "python",
   "name": "python3"
  },
  "language_info": {
   "codemirror_mode": {
    "name": "ipython",
    "version": 3
   },
   "file_extension": ".py",
   "mimetype": "text/x-python",
   "name": "python",
   "nbconvert_exporter": "python",
   "pygments_lexer": "ipython3",
   "version": "3.9.7"
  }
 },
 "nbformat": 4,
 "nbformat_minor": 5
}
