{
 "cells": [
  {
   "cell_type": "code",
   "execution_count": 1,
   "metadata": {
    "id": "YlGG1VHngBFb"
   },
   "outputs": [],
   "source": [
    "# Import packages \n",
    "import pandas as pd\n",
    "import numpy as np\n",
    "import matplotlib.pyplot as plt\n",
    "import seaborn as sns\n",
    "from scipy.stats.mstats import winsorize\n",
    "from sklearn.cluster import KMeans\n",
    "from sklearn.preprocessing import StandardScaler\n",
    "from sklearn.linear_model import LinearRegression\n",
    "from sklearn import metrics\n",
    "%matplotlib inline"
   ]
  },
  {
   "cell_type": "code",
   "execution_count": 2,
   "metadata": {
    "id": "fhCavBmhgGxV"
   },
   "outputs": [],
   "source": [
    "df = pd.read_csv('market_vendors.csv')"
   ]
  },
  {
   "cell_type": "code",
   "execution_count": 3,
   "metadata": {
    "colab": {
     "base_uri": "https://localhost:8080/",
     "height": 319
    },
    "id": "wAfBhMCfgP_H",
    "outputId": "51ddeda1-08bf-4040-f2fc-0e070a8b8108"
   },
   "outputs": [
    {
     "data": {
      "text/html": [
       "<div>\n",
       "<style scoped>\n",
       "    .dataframe tbody tr th:only-of-type {\n",
       "        vertical-align: middle;\n",
       "    }\n",
       "\n",
       "    .dataframe tbody tr th {\n",
       "        vertical-align: top;\n",
       "    }\n",
       "\n",
       "    .dataframe thead th {\n",
       "        text-align: right;\n",
       "    }\n",
       "</style>\n",
       "<table border=\"1\" class=\"dataframe\">\n",
       "  <thead>\n",
       "    <tr style=\"text-align: right;\">\n",
       "      <th></th>\n",
       "      <th>vendorID</th>\n",
       "      <th>theme</th>\n",
       "      <th>homeState</th>\n",
       "      <th>carnivals</th>\n",
       "      <th>complaints</th>\n",
       "      <th>est_energy</th>\n",
       "      <th>est_hourly_vol</th>\n",
       "      <th>LL_passholder</th>\n",
       "      <th>est_hourly_gross</th>\n",
       "    </tr>\n",
       "  </thead>\n",
       "  <tbody>\n",
       "    <tr>\n",
       "      <th>0</th>\n",
       "      <td>1</td>\n",
       "      <td>Artisan Chocolates</td>\n",
       "      <td>Maine</td>\n",
       "      <td>3</td>\n",
       "      <td>9</td>\n",
       "      <td>57.291961</td>\n",
       "      <td>118</td>\n",
       "      <td>0</td>\n",
       "      <td>217.93</td>\n",
       "    </tr>\n",
       "    <tr>\n",
       "      <th>1</th>\n",
       "      <td>2</td>\n",
       "      <td>Local Artists</td>\n",
       "      <td>Vermont</td>\n",
       "      <td>1</td>\n",
       "      <td>2</td>\n",
       "      <td>39.404898</td>\n",
       "      <td>105</td>\n",
       "      <td>1</td>\n",
       "      <td>209.51</td>\n",
       "    </tr>\n",
       "    <tr>\n",
       "      <th>2</th>\n",
       "      <td>3</td>\n",
       "      <td>Fortune Teller</td>\n",
       "      <td>New Hampshire</td>\n",
       "      <td>5</td>\n",
       "      <td>4</td>\n",
       "      <td>47.175958</td>\n",
       "      <td>94</td>\n",
       "      <td>0</td>\n",
       "      <td>200.68</td>\n",
       "    </tr>\n",
       "    <tr>\n",
       "      <th>3</th>\n",
       "      <td>4</td>\n",
       "      <td>Fried Dough and Pizza</td>\n",
       "      <td>Maine</td>\n",
       "      <td>8</td>\n",
       "      <td>0</td>\n",
       "      <td>58.192568</td>\n",
       "      <td>118</td>\n",
       "      <td>0</td>\n",
       "      <td>251.40</td>\n",
       "    </tr>\n",
       "    <tr>\n",
       "      <th>4</th>\n",
       "      <td>5</td>\n",
       "      <td>craft beer</td>\n",
       "      <td>New Hampshire</td>\n",
       "      <td>7</td>\n",
       "      <td>6</td>\n",
       "      <td>56.657908</td>\n",
       "      <td>102</td>\n",
       "      <td>0</td>\n",
       "      <td>168.76</td>\n",
       "    </tr>\n",
       "  </tbody>\n",
       "</table>\n",
       "</div>"
      ],
      "text/plain": [
       "   vendorID                  theme      homeState  carnivals  complaints  \\\n",
       "0         1     Artisan Chocolates          Maine          3           9   \n",
       "1         2          Local Artists        Vermont          1           2   \n",
       "2         3         Fortune Teller  New Hampshire          5           4   \n",
       "3         4  Fried Dough and Pizza          Maine          8           0   \n",
       "4         5             craft beer  New Hampshire          7           6   \n",
       "\n",
       "   est_energy  est_hourly_vol  LL_passholder  est_hourly_gross  \n",
       "0   57.291961             118              0            217.93  \n",
       "1   39.404898             105              1            209.51  \n",
       "2   47.175958              94              0            200.68  \n",
       "3   58.192568             118              0            251.40  \n",
       "4   56.657908             102              0            168.76  "
      ]
     },
     "execution_count": 3,
     "metadata": {},
     "output_type": "execute_result"
    }
   ],
   "source": [
    "df.head() #Eyeball"
   ]
  },
  {
   "cell_type": "code",
   "execution_count": 4,
   "metadata": {
    "colab": {
     "base_uri": "https://localhost:8080/"
    },
    "id": "QZMBJqf3gX0H",
    "outputId": "f8ec2f2a-52af-412d-bf99-479ddb116fc6"
   },
   "outputs": [
    {
     "name": "stdout",
     "output_type": "stream",
     "text": [
      "<class 'pandas.core.frame.DataFrame'>\n",
      "RangeIndex: 700 entries, 0 to 699\n",
      "Data columns (total 9 columns):\n",
      " #   Column            Non-Null Count  Dtype  \n",
      "---  ------            --------------  -----  \n",
      " 0   vendorID          700 non-null    int64  \n",
      " 1   theme             700 non-null    object \n",
      " 2   homeState         700 non-null    object \n",
      " 3   carnivals         700 non-null    int64  \n",
      " 4   complaints        700 non-null    int64  \n",
      " 5   est_energy        700 non-null    float64\n",
      " 6   est_hourly_vol    700 non-null    int64  \n",
      " 7   LL_passholder     700 non-null    int64  \n",
      " 8   est_hourly_gross  700 non-null    float64\n",
      "dtypes: float64(2), int64(5), object(2)\n",
      "memory usage: 49.3+ KB\n"
     ]
    }
   ],
   "source": [
    "df.info()"
   ]
  },
  {
   "cell_type": "code",
   "execution_count": 5,
   "metadata": {
    "colab": {
     "base_uri": "https://localhost:8080/"
    },
    "id": "RsIsC4PFhcAd",
    "outputId": "a1f5cb50-9b3b-4faf-c552-2eff365274c4"
   },
   "outputs": [
    {
     "data": {
      "text/plain": [
       "(700, 9)"
      ]
     },
     "execution_count": 5,
     "metadata": {},
     "output_type": "execute_result"
    }
   ],
   "source": [
    "df.shape"
   ]
  },
  {
   "cell_type": "code",
   "execution_count": 6,
   "metadata": {
    "colab": {
     "base_uri": "https://localhost:8080/"
    },
    "id": "fy0OZX68hves",
    "outputId": "cac61825-f6b0-4d79-ee11-590011a999ab"
   },
   "outputs": [
    {
     "data": {
      "text/plain": [
       "690    Video Game/eSports\n",
       "691            craft beer\n",
       "692                     8\n",
       "693                     3\n",
       "694                     4\n",
       "695                     7\n",
       "696                     5\n",
       "697                     5\n",
       "698                     7\n",
       "699                     9\n",
       "Name: theme, dtype: object"
      ]
     },
     "execution_count": 6,
     "metadata": {},
     "output_type": "execute_result"
    }
   ],
   "source": [
    "df['theme'].tail(10)"
   ]
  },
  {
   "cell_type": "markdown",
   "metadata": {
    "id": "jnC8B33JkKHi"
   },
   "source": [
    "There are miss type for 'theme', so drop the row data for index[692:699]"
   ]
  },
  {
   "cell_type": "code",
   "execution_count": 7,
   "metadata": {
    "id": "BwjlwLCViDzV"
   },
   "outputs": [],
   "source": [
    "# Drop the row data with index[692:699] for EDA\n",
    "df.drop([692,693,694,695,696,697,698,699], inplace = True)"
   ]
  },
  {
   "cell_type": "code",
   "execution_count": 8,
   "metadata": {
    "colab": {
     "base_uri": "https://localhost:8080/"
    },
    "id": "eEKEAlUZjcQI",
    "outputId": "3f29ecb0-7307-42e5-ad78-49badc9e141c"
   },
   "outputs": [
    {
     "data": {
      "text/plain": [
       "687       Games Of Chance\n",
       "688        Homemade Gifts\n",
       "689        Homemade Gifts\n",
       "690    Video Game/eSports\n",
       "691            craft beer\n",
       "Name: theme, dtype: object"
      ]
     },
     "execution_count": 8,
     "metadata": {},
     "output_type": "execute_result"
    }
   ],
   "source": [
    "# Check \n",
    "df['theme'].tail()"
   ]
  },
  {
   "cell_type": "code",
   "execution_count": 9,
   "metadata": {
    "colab": {
     "base_uri": "https://localhost:8080/"
    },
    "id": "1VtFGJ0AgfBB",
    "outputId": "ae79ac97-70c9-4d15-d6f4-3943b4aa592e"
   },
   "outputs": [
    {
     "data": {
      "text/plain": [
       "14"
      ]
     },
     "execution_count": 9,
     "metadata": {},
     "output_type": "execute_result"
    }
   ],
   "source": [
    "df['theme'].nunique()"
   ]
  },
  {
   "cell_type": "markdown",
   "metadata": {
    "id": "-MUspZ0rkt4P"
   },
   "source": [
    "There are total in 14 themes in vendors"
   ]
  },
  {
   "cell_type": "code",
   "execution_count": 10,
   "metadata": {
    "colab": {
     "base_uri": "https://localhost:8080/"
    },
    "id": "bqnhov9JjpxZ",
    "outputId": "590f455e-5946-456d-88d8-f3b40ddf2fdd"
   },
   "outputs": [
    {
     "data": {
      "text/plain": [
       "False"
      ]
     },
     "execution_count": 10,
     "metadata": {},
     "output_type": "execute_result"
    }
   ],
   "source": [
    "# Check all the dataset with NaN values\n",
    "# As long as there is a null value, return TRUE, otherwise return FALSE\n",
    "np.any(df.isnull())"
   ]
  },
  {
   "cell_type": "code",
   "execution_count": 11,
   "metadata": {
    "id": "HSndy6_Ej4s-"
   },
   "outputs": [],
   "source": [
    "# Save the final dataframe to \"market_vendors_clean\"\n",
    "df.to_csv('market_vendors_clean.csv')"
   ]
  },
  {
   "cell_type": "code",
   "execution_count": 12,
   "metadata": {
    "colab": {
     "base_uri": "https://localhost:8080/",
     "height": 391
    },
    "id": "PG7zjVRe8ila",
    "outputId": "43266b1f-9405-4005-810a-cbf4082bb889"
   },
   "outputs": [
    {
     "data": {
      "text/html": [
       "<div>\n",
       "<style scoped>\n",
       "    .dataframe tbody tr th:only-of-type {\n",
       "        vertical-align: middle;\n",
       "    }\n",
       "\n",
       "    .dataframe tbody tr th {\n",
       "        vertical-align: top;\n",
       "    }\n",
       "\n",
       "    .dataframe thead th {\n",
       "        text-align: right;\n",
       "    }\n",
       "</style>\n",
       "<table border=\"1\" class=\"dataframe\">\n",
       "  <thead>\n",
       "    <tr style=\"text-align: right;\">\n",
       "      <th></th>\n",
       "      <th>Unnamed: 0</th>\n",
       "      <th>vendorID</th>\n",
       "      <th>theme</th>\n",
       "      <th>homeState</th>\n",
       "      <th>carnivals</th>\n",
       "      <th>complaints</th>\n",
       "      <th>est_energy</th>\n",
       "      <th>est_hourly_vol</th>\n",
       "      <th>LL_passholder</th>\n",
       "      <th>est_hourly_gross</th>\n",
       "    </tr>\n",
       "  </thead>\n",
       "  <tbody>\n",
       "    <tr>\n",
       "      <th>0</th>\n",
       "      <td>0</td>\n",
       "      <td>1</td>\n",
       "      <td>Artisan Chocolates</td>\n",
       "      <td>Maine</td>\n",
       "      <td>3</td>\n",
       "      <td>9</td>\n",
       "      <td>57.291961</td>\n",
       "      <td>118</td>\n",
       "      <td>0</td>\n",
       "      <td>217.93</td>\n",
       "    </tr>\n",
       "    <tr>\n",
       "      <th>1</th>\n",
       "      <td>1</td>\n",
       "      <td>2</td>\n",
       "      <td>Local Artists</td>\n",
       "      <td>Vermont</td>\n",
       "      <td>1</td>\n",
       "      <td>2</td>\n",
       "      <td>39.404898</td>\n",
       "      <td>105</td>\n",
       "      <td>1</td>\n",
       "      <td>209.51</td>\n",
       "    </tr>\n",
       "    <tr>\n",
       "      <th>2</th>\n",
       "      <td>2</td>\n",
       "      <td>3</td>\n",
       "      <td>Fortune Teller</td>\n",
       "      <td>New Hampshire</td>\n",
       "      <td>5</td>\n",
       "      <td>4</td>\n",
       "      <td>47.175958</td>\n",
       "      <td>94</td>\n",
       "      <td>0</td>\n",
       "      <td>200.68</td>\n",
       "    </tr>\n",
       "    <tr>\n",
       "      <th>3</th>\n",
       "      <td>3</td>\n",
       "      <td>4</td>\n",
       "      <td>Fried Dough and Pizza</td>\n",
       "      <td>Maine</td>\n",
       "      <td>8</td>\n",
       "      <td>0</td>\n",
       "      <td>58.192568</td>\n",
       "      <td>118</td>\n",
       "      <td>0</td>\n",
       "      <td>251.40</td>\n",
       "    </tr>\n",
       "    <tr>\n",
       "      <th>4</th>\n",
       "      <td>4</td>\n",
       "      <td>5</td>\n",
       "      <td>craft beer</td>\n",
       "      <td>New Hampshire</td>\n",
       "      <td>7</td>\n",
       "      <td>6</td>\n",
       "      <td>56.657908</td>\n",
       "      <td>102</td>\n",
       "      <td>0</td>\n",
       "      <td>168.76</td>\n",
       "    </tr>\n",
       "  </tbody>\n",
       "</table>\n",
       "</div>"
      ],
      "text/plain": [
       "   Unnamed: 0  vendorID                  theme      homeState  carnivals  \\\n",
       "0           0         1     Artisan Chocolates          Maine          3   \n",
       "1           1         2          Local Artists        Vermont          1   \n",
       "2           2         3         Fortune Teller  New Hampshire          5   \n",
       "3           3         4  Fried Dough and Pizza          Maine          8   \n",
       "4           4         5             craft beer  New Hampshire          7   \n",
       "\n",
       "   complaints  est_energy  est_hourly_vol  LL_passholder  est_hourly_gross  \n",
       "0           9   57.291961             118              0            217.93  \n",
       "1           2   39.404898             105              1            209.51  \n",
       "2           4   47.175958              94              0            200.68  \n",
       "3           0   58.192568             118              0            251.40  \n",
       "4           6   56.657908             102              0            168.76  "
      ]
     },
     "execution_count": 12,
     "metadata": {},
     "output_type": "execute_result"
    }
   ],
   "source": [
    "df_vendor = pd.read_csv('market_vendors_clean.csv')\n",
    "df_vendor.head()"
   ]
  },
  {
   "cell_type": "code",
   "execution_count": 13,
   "metadata": {
    "colab": {
     "base_uri": "https://localhost:8080/"
    },
    "id": "jZirjkNg-BKf",
    "outputId": "201c5ae2-8041-4526-f23c-b4f14b1895e9"
   },
   "outputs": [
    {
     "data": {
      "text/plain": [
       "Index(['Unnamed: 0', 'vendorID', 'theme', 'homeState', 'carnivals',\n",
       "       'complaints', 'est_energy', 'est_hourly_vol', 'LL_passholder',\n",
       "       'est_hourly_gross'],\n",
       "      dtype='object')"
      ]
     },
     "execution_count": 13,
     "metadata": {},
     "output_type": "execute_result"
    }
   ],
   "source": [
    "df_vendor.columns"
   ]
  },
  {
   "cell_type": "code",
   "execution_count": 14,
   "metadata": {
    "id": "ZnWDup_w9yCn"
   },
   "outputs": [],
   "source": [
    "df_vendor.drop('Unnamed: 0', axis = 1, inplace = True)"
   ]
  },
  {
   "cell_type": "code",
   "execution_count": 15,
   "metadata": {
    "colab": {
     "base_uri": "https://localhost:8080/",
     "height": 300
    },
    "id": "WLfPJe7m9nXx",
    "outputId": "eb6d4085-5d51-409b-91ec-de7914d5968d"
   },
   "outputs": [
    {
     "data": {
      "text/html": [
       "<div>\n",
       "<style scoped>\n",
       "    .dataframe tbody tr th:only-of-type {\n",
       "        vertical-align: middle;\n",
       "    }\n",
       "\n",
       "    .dataframe tbody tr th {\n",
       "        vertical-align: top;\n",
       "    }\n",
       "\n",
       "    .dataframe thead th {\n",
       "        text-align: right;\n",
       "    }\n",
       "</style>\n",
       "<table border=\"1\" class=\"dataframe\">\n",
       "  <thead>\n",
       "    <tr style=\"text-align: right;\">\n",
       "      <th></th>\n",
       "      <th>vendorID</th>\n",
       "      <th>carnivals</th>\n",
       "      <th>complaints</th>\n",
       "      <th>est_energy</th>\n",
       "      <th>est_hourly_vol</th>\n",
       "      <th>LL_passholder</th>\n",
       "      <th>est_hourly_gross</th>\n",
       "    </tr>\n",
       "  </thead>\n",
       "  <tbody>\n",
       "    <tr>\n",
       "      <th>count</th>\n",
       "      <td>692.000000</td>\n",
       "      <td>692.000000</td>\n",
       "      <td>692.000000</td>\n",
       "      <td>692.000000</td>\n",
       "      <td>692.000000</td>\n",
       "      <td>692.000000</td>\n",
       "      <td>692.000000</td>\n",
       "    </tr>\n",
       "    <tr>\n",
       "      <th>mean</th>\n",
       "      <td>349.291908</td>\n",
       "      <td>5.114162</td>\n",
       "      <td>5.228324</td>\n",
       "      <td>47.975867</td>\n",
       "      <td>111.361272</td>\n",
       "      <td>0.195087</td>\n",
       "      <td>218.970159</td>\n",
       "    </tr>\n",
       "    <tr>\n",
       "      <th>std</th>\n",
       "      <td>202.053170</td>\n",
       "      <td>2.188637</td>\n",
       "      <td>4.936342</td>\n",
       "      <td>13.544075</td>\n",
       "      <td>11.305755</td>\n",
       "      <td>0.396554</td>\n",
       "      <td>35.089505</td>\n",
       "    </tr>\n",
       "    <tr>\n",
       "      <th>min</th>\n",
       "      <td>1.000000</td>\n",
       "      <td>0.000000</td>\n",
       "      <td>0.000000</td>\n",
       "      <td>3.069903</td>\n",
       "      <td>82.000000</td>\n",
       "      <td>0.000000</td>\n",
       "      <td>81.290000</td>\n",
       "    </tr>\n",
       "    <tr>\n",
       "      <th>25%</th>\n",
       "      <td>173.750000</td>\n",
       "      <td>4.000000</td>\n",
       "      <td>0.000000</td>\n",
       "      <td>39.920280</td>\n",
       "      <td>104.000000</td>\n",
       "      <td>0.000000</td>\n",
       "      <td>194.295000</td>\n",
       "    </tr>\n",
       "    <tr>\n",
       "      <th>50%</th>\n",
       "      <td>350.500000</td>\n",
       "      <td>5.000000</td>\n",
       "      <td>4.000000</td>\n",
       "      <td>48.075756</td>\n",
       "      <td>111.000000</td>\n",
       "      <td>0.000000</td>\n",
       "      <td>217.735000</td>\n",
       "    </tr>\n",
       "    <tr>\n",
       "      <th>75%</th>\n",
       "      <td>523.250000</td>\n",
       "      <td>7.000000</td>\n",
       "      <td>9.000000</td>\n",
       "      <td>57.372752</td>\n",
       "      <td>119.000000</td>\n",
       "      <td>0.000000</td>\n",
       "      <td>242.735000</td>\n",
       "    </tr>\n",
       "    <tr>\n",
       "      <th>max</th>\n",
       "      <td>700.000000</td>\n",
       "      <td>13.000000</td>\n",
       "      <td>20.000000</td>\n",
       "      <td>91.567936</td>\n",
       "      <td>147.000000</td>\n",
       "      <td>1.000000</td>\n",
       "      <td>322.570000</td>\n",
       "    </tr>\n",
       "  </tbody>\n",
       "</table>\n",
       "</div>"
      ],
      "text/plain": [
       "         vendorID   carnivals  complaints  est_energy  est_hourly_vol  \\\n",
       "count  692.000000  692.000000  692.000000  692.000000      692.000000   \n",
       "mean   349.291908    5.114162    5.228324   47.975867      111.361272   \n",
       "std    202.053170    2.188637    4.936342   13.544075       11.305755   \n",
       "min      1.000000    0.000000    0.000000    3.069903       82.000000   \n",
       "25%    173.750000    4.000000    0.000000   39.920280      104.000000   \n",
       "50%    350.500000    5.000000    4.000000   48.075756      111.000000   \n",
       "75%    523.250000    7.000000    9.000000   57.372752      119.000000   \n",
       "max    700.000000   13.000000   20.000000   91.567936      147.000000   \n",
       "\n",
       "       LL_passholder  est_hourly_gross  \n",
       "count     692.000000        692.000000  \n",
       "mean        0.195087        218.970159  \n",
       "std         0.396554         35.089505  \n",
       "min         0.000000         81.290000  \n",
       "25%         0.000000        194.295000  \n",
       "50%         0.000000        217.735000  \n",
       "75%         0.000000        242.735000  \n",
       "max         1.000000        322.570000  "
      ]
     },
     "execution_count": 15,
     "metadata": {},
     "output_type": "execute_result"
    }
   ],
   "source": [
    "# Check for outliers\n",
    "df_vendor.describe()"
   ]
  },
  {
   "cell_type": "markdown",
   "metadata": {
    "id": "whr8PBi5-P8T"
   },
   "source": [
    "From the result, it is easily to find out there are outliers in carnivals."
   ]
  },
  {
   "cell_type": "code",
   "execution_count": 16,
   "metadata": {
    "colab": {
     "base_uri": "https://localhost:8080/",
     "height": 368
    },
    "id": "AG9qnaNd-pkL",
    "outputId": "6016fa6a-7dd2-4b09-8279-7c8e36841bd7"
   },
   "outputs": [
    {
     "name": "stderr",
     "output_type": "stream",
     "text": [
      "/Users/hardikgupta/opt/anaconda3/lib/python3.9/site-packages/seaborn/_decorators.py:36: FutureWarning: Pass the following variable as a keyword arg: x. From version 0.12, the only valid positional argument will be `data`, and passing other arguments without an explicit keyword will result in an error or misinterpretation.\n",
      "  warnings.warn(\n"
     ]
    },
    {
     "data": {
      "image/png": "[encoded data removed]",
      "text/plain": [
       "<Figure size 432x288 with 1 Axes>"
      ]
     },
     "metadata": {
      "needs_background": "light"
     },
     "output_type": "display_data"
    },
    {
     "name": "stdout",
     "output_type": "stream",
     "text": [
      "None\n"
     ]
    }
   ],
   "source": [
    "# The boxplot(IQR) for 'carnivals'\n",
    "sns.boxplot(df_vendor['carnivals'])\n",
    "plt.title('carnivals')\n",
    "print(plt.show())"
   ]
  },
  {
   "cell_type": "code",
   "execution_count": 17,
   "metadata": {
    "colab": {
     "base_uri": "https://localhost:8080/",
     "height": 354
    },
    "id": "jiXtKid0_izG",
    "outputId": "a43b94ea-6da7-4e0a-bc0a-42f14c4e8914"
   },
   "outputs": [
    {
     "name": "stderr",
     "output_type": "stream",
     "text": [
      "/Users/hardikgupta/opt/anaconda3/lib/python3.9/site-packages/seaborn/_decorators.py:36: FutureWarning: Pass the following variable as a keyword arg: x. From version 0.12, the only valid positional argument will be `data`, and passing other arguments without an explicit keyword will result in an error or misinterpretation.\n",
      "  warnings.warn(\n"
     ]
    },
    {
     "data": {
      "image/png": "[encoded data removed]",
      "text/plain": [
       "<Figure size 432x288 with 1 Axes>"
      ]
     },
     "metadata": {
      "needs_background": "light"
     },
     "output_type": "display_data"
    },
    {
     "name": "stdout",
     "output_type": "stream",
     "text": [
      "None\n"
     ]
    }
   ],
   "source": [
    "Winsorized_car = winsorize(df_vendor['carnivals'], (0.00,0.01))\n",
    "\n",
    "sns.boxplot(Winsorized_car)\n",
    "plt.title('Winsorized carnivals')\n",
    "print(plt.show())"
   ]
  },
  {
   "cell_type": "code",
   "execution_count": 18,
   "metadata": {
    "id": "pKe0ihvPW0HK"
   },
   "outputs": [],
   "source": [
    "df_vendor['carnivals'] = Winsorized_car"
   ]
  },
  {
   "cell_type": "code",
   "execution_count": 19,
   "metadata": {
    "colab": {
     "base_uri": "https://localhost:8080/"
    },
    "id": "VRf-8KA7X3D_",
    "outputId": "a1cce7be-4689-4663-c63e-42104d474acd"
   },
   "outputs": [
    {
     "name": "stdout",
     "output_type": "stream",
     "text": [
      "<class 'pandas.core.frame.DataFrame'>\n",
      "RangeIndex: 692 entries, 0 to 691\n",
      "Data columns (total 9 columns):\n",
      " #   Column            Non-Null Count  Dtype  \n",
      "---  ------            --------------  -----  \n",
      " 0   vendorID          692 non-null    int64  \n",
      " 1   theme             692 non-null    object \n",
      " 2   homeState         692 non-null    object \n",
      " 3   carnivals         692 non-null    int64  \n",
      " 4   complaints        692 non-null    int64  \n",
      " 5   est_energy        692 non-null    float64\n",
      " 6   est_hourly_vol    692 non-null    int64  \n",
      " 7   LL_passholder     692 non-null    int64  \n",
      " 8   est_hourly_gross  692 non-null    float64\n",
      "dtypes: float64(2), int64(5), object(2)\n",
      "memory usage: 48.8+ KB\n"
     ]
    }
   ],
   "source": [
    "# The final clean dataframe(df_vendor)\n",
    "df_vendor.info()"
   ]
  },
  {
   "cell_type": "code",
   "execution_count": 20,
   "metadata": {
    "colab": {
     "base_uri": "https://localhost:8080/",
     "height": 300
    },
    "id": "bDRalN_e7f9D",
    "outputId": "6c0e5145-f69c-4d19-9699-3a4867e8ba81"
   },
   "outputs": [
    {
     "data": {
      "text/html": [
       "<div>\n",
       "<style scoped>\n",
       "    .dataframe tbody tr th:only-of-type {\n",
       "        vertical-align: middle;\n",
       "    }\n",
       "\n",
       "    .dataframe tbody tr th {\n",
       "        vertical-align: top;\n",
       "    }\n",
       "\n",
       "    .dataframe thead th {\n",
       "        text-align: right;\n",
       "    }\n",
       "</style>\n",
       "<table border=\"1\" class=\"dataframe\">\n",
       "  <thead>\n",
       "    <tr style=\"text-align: right;\">\n",
       "      <th></th>\n",
       "      <th>vendorID</th>\n",
       "      <th>carnivals</th>\n",
       "      <th>complaints</th>\n",
       "      <th>est_energy</th>\n",
       "      <th>est_hourly_vol</th>\n",
       "      <th>LL_passholder</th>\n",
       "      <th>est_hourly_gross</th>\n",
       "    </tr>\n",
       "  </thead>\n",
       "  <tbody>\n",
       "    <tr>\n",
       "      <th>count</th>\n",
       "      <td>692.000000</td>\n",
       "      <td>692.000000</td>\n",
       "      <td>692.000000</td>\n",
       "      <td>692.000000</td>\n",
       "      <td>692.000000</td>\n",
       "      <td>692.000000</td>\n",
       "      <td>692.000000</td>\n",
       "    </tr>\n",
       "    <tr>\n",
       "      <th>mean</th>\n",
       "      <td>349.291908</td>\n",
       "      <td>5.102601</td>\n",
       "      <td>5.228324</td>\n",
       "      <td>47.975867</td>\n",
       "      <td>111.361272</td>\n",
       "      <td>0.195087</td>\n",
       "      <td>218.970159</td>\n",
       "    </tr>\n",
       "    <tr>\n",
       "      <th>std</th>\n",
       "      <td>202.053170</td>\n",
       "      <td>2.152545</td>\n",
       "      <td>4.936342</td>\n",
       "      <td>13.544075</td>\n",
       "      <td>11.305755</td>\n",
       "      <td>0.396554</td>\n",
       "      <td>35.089505</td>\n",
       "    </tr>\n",
       "    <tr>\n",
       "      <th>min</th>\n",
       "      <td>1.000000</td>\n",
       "      <td>0.000000</td>\n",
       "      <td>0.000000</td>\n",
       "      <td>3.069903</td>\n",
       "      <td>82.000000</td>\n",
       "      <td>0.000000</td>\n",
       "      <td>81.290000</td>\n",
       "    </tr>\n",
       "    <tr>\n",
       "      <th>25%</th>\n",
       "      <td>173.750000</td>\n",
       "      <td>4.000000</td>\n",
       "      <td>0.000000</td>\n",
       "      <td>39.920280</td>\n",
       "      <td>104.000000</td>\n",
       "      <td>0.000000</td>\n",
       "      <td>194.295000</td>\n",
       "    </tr>\n",
       "    <tr>\n",
       "      <th>50%</th>\n",
       "      <td>350.500000</td>\n",
       "      <td>5.000000</td>\n",
       "      <td>4.000000</td>\n",
       "      <td>48.075756</td>\n",
       "      <td>111.000000</td>\n",
       "      <td>0.000000</td>\n",
       "      <td>217.735000</td>\n",
       "    </tr>\n",
       "    <tr>\n",
       "      <th>75%</th>\n",
       "      <td>523.250000</td>\n",
       "      <td>7.000000</td>\n",
       "      <td>9.000000</td>\n",
       "      <td>57.372752</td>\n",
       "      <td>119.000000</td>\n",
       "      <td>0.000000</td>\n",
       "      <td>242.735000</td>\n",
       "    </tr>\n",
       "    <tr>\n",
       "      <th>max</th>\n",
       "      <td>700.000000</td>\n",
       "      <td>11.000000</td>\n",
       "      <td>20.000000</td>\n",
       "      <td>91.567936</td>\n",
       "      <td>147.000000</td>\n",
       "      <td>1.000000</td>\n",
       "      <td>322.570000</td>\n",
       "    </tr>\n",
       "  </tbody>\n",
       "</table>\n",
       "</div>"
      ],
      "text/plain": [
       "         vendorID   carnivals  complaints  est_energy  est_hourly_vol  \\\n",
       "count  692.000000  692.000000  692.000000  692.000000      692.000000   \n",
       "mean   349.291908    5.102601    5.228324   47.975867      111.361272   \n",
       "std    202.053170    2.152545    4.936342   13.544075       11.305755   \n",
       "min      1.000000    0.000000    0.000000    3.069903       82.000000   \n",
       "25%    173.750000    4.000000    0.000000   39.920280      104.000000   \n",
       "50%    350.500000    5.000000    4.000000   48.075756      111.000000   \n",
       "75%    523.250000    7.000000    9.000000   57.372752      119.000000   \n",
       "max    700.000000   11.000000   20.000000   91.567936      147.000000   \n",
       "\n",
       "       LL_passholder  est_hourly_gross  \n",
       "count     692.000000        692.000000  \n",
       "mean        0.195087        218.970159  \n",
       "std         0.396554         35.089505  \n",
       "min         0.000000         81.290000  \n",
       "25%         0.000000        194.295000  \n",
       "50%         0.000000        217.735000  \n",
       "75%         0.000000        242.735000  \n",
       "max         1.000000        322.570000  "
      ]
     },
     "execution_count": 20,
     "metadata": {},
     "output_type": "execute_result"
    }
   ],
   "source": [
    "# summary statistics 1: \n",
    "df_vendor.describe()\n"
   ]
  },
  {
   "cell_type": "code",
   "execution_count": 21,
   "metadata": {
    "colab": {
     "base_uri": "https://localhost:8080/"
    },
    "id": "i00HY4w87uXy",
    "outputId": "7c81f169-cfd4-4f1a-d09c-32b2f06308c7"
   },
   "outputs": [
    {
     "data": {
      "text/plain": [
       "vendorID            692\n",
       "theme                14\n",
       "homeState             7\n",
       "carnivals            12\n",
       "complaints           21\n",
       "est_energy          688\n",
       "est_hourly_vol       61\n",
       "LL_passholder         2\n",
       "est_hourly_gross    665\n",
       "dtype: int64"
      ]
     },
     "execution_count": 21,
     "metadata": {},
     "output_type": "execute_result"
    }
   ],
   "source": [
    "# summary statistics 2:\n",
    "df_vendor.nunique()"
   ]
  },
  {
   "cell_type": "code",
   "execution_count": 22,
   "metadata": {
    "colab": {
     "base_uri": "https://localhost:8080/"
    },
    "id": "HWklvui374jY",
    "outputId": "d9ee6cb6-47b3-410d-b8b0-d63ace4e619a"
   },
   "outputs": [
    {
     "data": {
      "text/plain": [
       "<pandas.core.groupby.generic.DataFrameGroupBy object at 0x7f9f8ff005b0>"
      ]
     },
     "execution_count": 22,
     "metadata": {},
     "output_type": "execute_result"
    }
   ],
   "source": [
    "# summary statistics 3:\n",
    "g = df_vendor.groupby('homeState')\n",
    "g"
   ]
  },
  {
   "cell_type": "code",
   "execution_count": 23,
   "metadata": {
    "colab": {
     "base_uri": "https://localhost:8080/",
     "height": 300
    },
    "id": "q9dsPVOaAPPU",
    "outputId": "c60b42b6-23ec-4f59-86c3-0bfc85a65412"
   },
   "outputs": [
    {
     "data": {
      "text/html": [
       "<div>\n",
       "<style scoped>\n",
       "    .dataframe tbody tr th:only-of-type {\n",
       "        vertical-align: middle;\n",
       "    }\n",
       "\n",
       "    .dataframe tbody tr th {\n",
       "        vertical-align: top;\n",
       "    }\n",
       "\n",
       "    .dataframe thead th {\n",
       "        text-align: right;\n",
       "    }\n",
       "</style>\n",
       "<table border=\"1\" class=\"dataframe\">\n",
       "  <thead>\n",
       "    <tr style=\"text-align: right;\">\n",
       "      <th></th>\n",
       "      <th>vendorID</th>\n",
       "      <th>carnivals</th>\n",
       "      <th>complaints</th>\n",
       "      <th>est_energy</th>\n",
       "      <th>est_hourly_vol</th>\n",
       "      <th>LL_passholder</th>\n",
       "      <th>est_hourly_gross</th>\n",
       "    </tr>\n",
       "    <tr>\n",
       "      <th>homeState</th>\n",
       "      <th></th>\n",
       "      <th></th>\n",
       "      <th></th>\n",
       "      <th></th>\n",
       "      <th></th>\n",
       "      <th></th>\n",
       "      <th></th>\n",
       "    </tr>\n",
       "  </thead>\n",
       "  <tbody>\n",
       "    <tr>\n",
       "      <th>Connecticut</th>\n",
       "      <td>385.750000</td>\n",
       "      <td>4.937500</td>\n",
       "      <td>5.562500</td>\n",
       "      <td>49.491742</td>\n",
       "      <td>113.125000</td>\n",
       "      <td>0.208333</td>\n",
       "      <td>222.371250</td>\n",
       "    </tr>\n",
       "    <tr>\n",
       "      <th>Maine</th>\n",
       "      <td>344.139089</td>\n",
       "      <td>5.083933</td>\n",
       "      <td>4.940048</td>\n",
       "      <td>47.495915</td>\n",
       "      <td>110.956835</td>\n",
       "      <td>0.182254</td>\n",
       "      <td>219.283405</td>\n",
       "    </tr>\n",
       "    <tr>\n",
       "      <th>Massachusetts</th>\n",
       "      <td>439.111111</td>\n",
       "      <td>5.259259</td>\n",
       "      <td>7.296296</td>\n",
       "      <td>44.172066</td>\n",
       "      <td>115.481481</td>\n",
       "      <td>0.259259</td>\n",
       "      <td>224.830000</td>\n",
       "    </tr>\n",
       "    <tr>\n",
       "      <th>New Hampshire</th>\n",
       "      <td>326.542857</td>\n",
       "      <td>5.228571</td>\n",
       "      <td>4.485714</td>\n",
       "      <td>47.629391</td>\n",
       "      <td>112.228571</td>\n",
       "      <td>0.285714</td>\n",
       "      <td>218.738857</td>\n",
       "    </tr>\n",
       "    <tr>\n",
       "      <th>Ontario</th>\n",
       "      <td>379.250000</td>\n",
       "      <td>5.000000</td>\n",
       "      <td>6.187500</td>\n",
       "      <td>48.428355</td>\n",
       "      <td>115.187500</td>\n",
       "      <td>0.062500</td>\n",
       "      <td>223.366875</td>\n",
       "    </tr>\n",
       "    <tr>\n",
       "      <th>Quebec</th>\n",
       "      <td>331.685185</td>\n",
       "      <td>5.314815</td>\n",
       "      <td>5.962963</td>\n",
       "      <td>48.727077</td>\n",
       "      <td>110.351852</td>\n",
       "      <td>0.203704</td>\n",
       "      <td>212.406296</td>\n",
       "    </tr>\n",
       "    <tr>\n",
       "      <th>Vermont</th>\n",
       "      <td>349.916667</td>\n",
       "      <td>4.983333</td>\n",
       "      <td>5.983333</td>\n",
       "      <td>51.418017</td>\n",
       "      <td>109.783333</td>\n",
       "      <td>0.166667</td>\n",
       "      <td>216.440167</td>\n",
       "    </tr>\n",
       "  </tbody>\n",
       "</table>\n",
       "</div>"
      ],
      "text/plain": [
       "                 vendorID  carnivals  complaints  est_energy  est_hourly_vol  \\\n",
       "homeState                                                                      \n",
       "Connecticut    385.750000   4.937500    5.562500   49.491742      113.125000   \n",
       "Maine          344.139089   5.083933    4.940048   47.495915      110.956835   \n",
       "Massachusetts  439.111111   5.259259    7.296296   44.172066      115.481481   \n",
       "New Hampshire  326.542857   5.228571    4.485714   47.629391      112.228571   \n",
       "Ontario        379.250000   5.000000    6.187500   48.428355      115.187500   \n",
       "Quebec         331.685185   5.314815    5.962963   48.727077      110.351852   \n",
       "Vermont        349.916667   4.983333    5.983333   51.418017      109.783333   \n",
       "\n",
       "               LL_passholder  est_hourly_gross  \n",
       "homeState                                       \n",
       "Connecticut         0.208333        222.371250  \n",
       "Maine               0.182254        219.283405  \n",
       "Massachusetts       0.259259        224.830000  \n",
       "New Hampshire       0.285714        218.738857  \n",
       "Ontario             0.062500        223.366875  \n",
       "Quebec              0.203704        212.406296  \n",
       "Vermont             0.166667        216.440167  "
      ]
     },
     "execution_count": 23,
     "metadata": {},
     "output_type": "execute_result"
    }
   ],
   "source": [
    "g.mean()"
   ]
  },
  {
   "cell_type": "code",
   "execution_count": 24,
   "metadata": {
    "colab": {
     "base_uri": "https://localhost:8080/"
    },
    "id": "ryckXwvYEnOZ",
    "outputId": "f5c0ab81-8357-4288-ae8e-d511fe5d6c28"
   },
   "outputs": [
    {
     "data": {
      "text/plain": [
       "<pandas.core.groupby.generic.DataFrameGroupBy object at 0x7f9f8ff00eb0>"
      ]
     },
     "execution_count": 24,
     "metadata": {},
     "output_type": "execute_result"
    }
   ],
   "source": [
    "# summary statistics 4:\n",
    "g1 = df_vendor.groupby('theme')\n",
    "g1"
   ]
  },
  {
   "cell_type": "code",
   "execution_count": 25,
   "metadata": {
    "colab": {
     "base_uri": "https://localhost:8080/",
     "height": 520
    },
    "id": "iazb22z9Eqbg",
    "outputId": "64030e94-86d4-490c-83e1-a44e6b20176b"
   },
   "outputs": [
    {
     "data": {
      "text/html": [
       "<div>\n",
       "<style scoped>\n",
       "    .dataframe tbody tr th:only-of-type {\n",
       "        vertical-align: middle;\n",
       "    }\n",
       "\n",
       "    .dataframe tbody tr th {\n",
       "        vertical-align: top;\n",
       "    }\n",
       "\n",
       "    .dataframe thead th {\n",
       "        text-align: right;\n",
       "    }\n",
       "</style>\n",
       "<table border=\"1\" class=\"dataframe\">\n",
       "  <thead>\n",
       "    <tr style=\"text-align: right;\">\n",
       "      <th></th>\n",
       "      <th>vendorID</th>\n",
       "      <th>carnivals</th>\n",
       "      <th>complaints</th>\n",
       "      <th>est_energy</th>\n",
       "      <th>est_hourly_vol</th>\n",
       "      <th>LL_passholder</th>\n",
       "      <th>est_hourly_gross</th>\n",
       "    </tr>\n",
       "    <tr>\n",
       "      <th>theme</th>\n",
       "      <th></th>\n",
       "      <th></th>\n",
       "      <th></th>\n",
       "      <th></th>\n",
       "      <th></th>\n",
       "      <th></th>\n",
       "      <th></th>\n",
       "    </tr>\n",
       "  </thead>\n",
       "  <tbody>\n",
       "    <tr>\n",
       "      <th>Artisan Chocolates</th>\n",
       "      <td>384.106195</td>\n",
       "      <td>5.035398</td>\n",
       "      <td>5.265487</td>\n",
       "      <td>52.164656</td>\n",
       "      <td>111.831858</td>\n",
       "      <td>0.194690</td>\n",
       "      <td>214.720354</td>\n",
       "    </tr>\n",
       "    <tr>\n",
       "      <th>Canadian Snacks</th>\n",
       "      <td>340.324324</td>\n",
       "      <td>5.648649</td>\n",
       "      <td>4.972973</td>\n",
       "      <td>50.085684</td>\n",
       "      <td>111.729730</td>\n",
       "      <td>0.229730</td>\n",
       "      <td>221.436892</td>\n",
       "    </tr>\n",
       "    <tr>\n",
       "      <th>Design Your Own T-Shirt</th>\n",
       "      <td>384.368421</td>\n",
       "      <td>9.105263</td>\n",
       "      <td>4.631579</td>\n",
       "      <td>56.415234</td>\n",
       "      <td>114.842105</td>\n",
       "      <td>0.263158</td>\n",
       "      <td>222.981053</td>\n",
       "    </tr>\n",
       "    <tr>\n",
       "      <th>Fortune Teller</th>\n",
       "      <td>239.000000</td>\n",
       "      <td>5.444444</td>\n",
       "      <td>7.444444</td>\n",
       "      <td>45.398320</td>\n",
       "      <td>112.444444</td>\n",
       "      <td>0.111111</td>\n",
       "      <td>207.072222</td>\n",
       "    </tr>\n",
       "    <tr>\n",
       "      <th>Fried Dough and Pizza</th>\n",
       "      <td>293.320000</td>\n",
       "      <td>4.986667</td>\n",
       "      <td>4.800000</td>\n",
       "      <td>50.318975</td>\n",
       "      <td>110.666667</td>\n",
       "      <td>0.133333</td>\n",
       "      <td>219.167333</td>\n",
       "    </tr>\n",
       "    <tr>\n",
       "      <th>Games Of Chance</th>\n",
       "      <td>321.611765</td>\n",
       "      <td>4.858824</td>\n",
       "      <td>4.317647</td>\n",
       "      <td>50.341382</td>\n",
       "      <td>111.952941</td>\n",
       "      <td>0.235294</td>\n",
       "      <td>222.085176</td>\n",
       "    </tr>\n",
       "    <tr>\n",
       "      <th>Homemade Gifts</th>\n",
       "      <td>340.307692</td>\n",
       "      <td>5.326923</td>\n",
       "      <td>6.269231</td>\n",
       "      <td>37.462214</td>\n",
       "      <td>111.423077</td>\n",
       "      <td>0.221154</td>\n",
       "      <td>215.885385</td>\n",
       "    </tr>\n",
       "    <tr>\n",
       "      <th>Ice Cold Lemonade</th>\n",
       "      <td>334.785714</td>\n",
       "      <td>3.428571</td>\n",
       "      <td>5.547619</td>\n",
       "      <td>50.196666</td>\n",
       "      <td>110.071429</td>\n",
       "      <td>0.166667</td>\n",
       "      <td>218.952381</td>\n",
       "    </tr>\n",
       "    <tr>\n",
       "      <th>Local Artists</th>\n",
       "      <td>353.945946</td>\n",
       "      <td>4.905405</td>\n",
       "      <td>5.270270</td>\n",
       "      <td>38.371918</td>\n",
       "      <td>112.216216</td>\n",
       "      <td>0.189189</td>\n",
       "      <td>224.376216</td>\n",
       "    </tr>\n",
       "    <tr>\n",
       "      <th>Local Politician</th>\n",
       "      <td>536.500000</td>\n",
       "      <td>5.000000</td>\n",
       "      <td>6.200000</td>\n",
       "      <td>47.698522</td>\n",
       "      <td>111.100000</td>\n",
       "      <td>0.400000</td>\n",
       "      <td>222.541000</td>\n",
       "    </tr>\n",
       "    <tr>\n",
       "      <th>Maine Tourism Promotion</th>\n",
       "      <td>365.933333</td>\n",
       "      <td>4.733333</td>\n",
       "      <td>3.800000</td>\n",
       "      <td>51.709750</td>\n",
       "      <td>108.066667</td>\n",
       "      <td>0.066667</td>\n",
       "      <td>215.484000</td>\n",
       "    </tr>\n",
       "    <tr>\n",
       "      <th>Specialty Ice Cream</th>\n",
       "      <td>411.833333</td>\n",
       "      <td>5.466667</td>\n",
       "      <td>4.500000</td>\n",
       "      <td>51.397807</td>\n",
       "      <td>109.766667</td>\n",
       "      <td>0.166667</td>\n",
       "      <td>217.727333</td>\n",
       "    </tr>\n",
       "    <tr>\n",
       "      <th>Video Game/eSports</th>\n",
       "      <td>377.043478</td>\n",
       "      <td>4.000000</td>\n",
       "      <td>5.086957</td>\n",
       "      <td>59.781322</td>\n",
       "      <td>109.260870</td>\n",
       "      <td>0.130435</td>\n",
       "      <td>217.996522</td>\n",
       "    </tr>\n",
       "    <tr>\n",
       "      <th>craft beer</th>\n",
       "      <td>358.210526</td>\n",
       "      <td>5.105263</td>\n",
       "      <td>6.684211</td>\n",
       "      <td>55.344756</td>\n",
       "      <td>110.210526</td>\n",
       "      <td>0.157895</td>\n",
       "      <td>221.432105</td>\n",
       "    </tr>\n",
       "  </tbody>\n",
       "</table>\n",
       "</div>"
      ],
      "text/plain": [
       "                           vendorID  carnivals  complaints  est_energy  \\\n",
       "theme                                                                    \n",
       "Artisan Chocolates       384.106195   5.035398    5.265487   52.164656   \n",
       "Canadian Snacks          340.324324   5.648649    4.972973   50.085684   \n",
       "Design Your Own T-Shirt  384.368421   9.105263    4.631579   56.415234   \n",
       "Fortune Teller           239.000000   5.444444    7.444444   45.398320   \n",
       "Fried Dough and Pizza    293.320000   4.986667    4.800000   50.318975   \n",
       "Games Of Chance          321.611765   4.858824    4.317647   50.341382   \n",
       "Homemade Gifts           340.307692   5.326923    6.269231   37.462214   \n",
       "Ice Cold Lemonade        334.785714   3.428571    5.547619   50.196666   \n",
       "Local Artists            353.945946   4.905405    5.270270   38.371918   \n",
       "Local Politician         536.500000   5.000000    6.200000   47.698522   \n",
       "Maine Tourism Promotion  365.933333   4.733333    3.800000   51.709750   \n",
       "Specialty Ice Cream      411.833333   5.466667    4.500000   51.397807   \n",
       "Video Game/eSports       377.043478   4.000000    5.086957   59.781322   \n",
       "craft beer               358.210526   5.105263    6.684211   55.344756   \n",
       "\n",
       "                         est_hourly_vol  LL_passholder  est_hourly_gross  \n",
       "theme                                                                     \n",
       "Artisan Chocolates           111.831858       0.194690        214.720354  \n",
       "Canadian Snacks              111.729730       0.229730        221.436892  \n",
       "Design Your Own T-Shirt      114.842105       0.263158        222.981053  \n",
       "Fortune Teller               112.444444       0.111111        207.072222  \n",
       "Fried Dough and Pizza        110.666667       0.133333        219.167333  \n",
       "Games Of Chance              111.952941       0.235294        222.085176  \n",
       "Homemade Gifts               111.423077       0.221154        215.885385  \n",
       "Ice Cold Lemonade            110.071429       0.166667        218.952381  \n",
       "Local Artists                112.216216       0.189189        224.376216  \n",
       "Local Politician             111.100000       0.400000        222.541000  \n",
       "Maine Tourism Promotion      108.066667       0.066667        215.484000  \n",
       "Specialty Ice Cream          109.766667       0.166667        217.727333  \n",
       "Video Game/eSports           109.260870       0.130435        217.996522  \n",
       "craft beer                   110.210526       0.157895        221.432105  "
      ]
     },
     "execution_count": 25,
     "metadata": {},
     "output_type": "execute_result"
    }
   ],
   "source": [
    "g1.mean()"
   ]
  },
  {
   "cell_type": "markdown",
   "metadata": {
    "id": "wUp9s2SKFwkz"
   },
   "source": [
    "The vendors are from 7 separate states and they hold 14 distinct theme activities. The most popular vendor is currently expected to attract an average of 147 tourists per hour, and the least popular vendor can also attract about 82 tourists per hour. The average hourly revenue that the vendor will generate is roughly $217. Vendors from Massachusetts is expected to be the most popular most profitable. If look at the profitability of different themes, the local artists-themed activities are the most profitable activities. Fortune teller is the least profitable themed campaign, and conversely, this campaign has the highest number of complaints based on the records of previous activities. "
   ]
  },
  {
   "cell_type": "markdown",
   "metadata": {},
   "source": [
    "# Segmentation and Targeting "
   ]
  },
  {
   "cell_type": "code",
   "execution_count": 75,
   "metadata": {},
   "outputs": [],
   "source": [
    "boston = pd.read_csv(\"greater_boston.csv\")"
   ]
  },
  {
   "cell_type": "code",
   "execution_count": 76,
   "metadata": {},
   "outputs": [
    {
     "name": "stdout",
     "output_type": "stream",
     "text": [
      "<class 'pandas.core.frame.DataFrame'>\n",
      "RangeIndex: 15000 entries, 0 to 14999\n",
      "Data columns (total 11 columns):\n",
      " #   Column                   Non-Null Count  Dtype  \n",
      "---  ------                   --------------  -----  \n",
      " 0   householdID              15000 non-null  int64  \n",
      " 1   total_ppl                14925 non-null  float64\n",
      " 2   own_rent                 15000 non-null  object \n",
      " 3   square_foot              15000 non-null  int64  \n",
      " 4   household_income         15000 non-null  float64\n",
      " 5   number_pets              15000 non-null  int64  \n",
      " 6   region                   15000 non-null  object \n",
      " 7   entertainment_spend_est  15000 non-null  float64\n",
      " 8   travel_spend_est         15000 non-null  float64\n",
      " 9   under_12                 14925 non-null  float64\n",
      " 10  LL_passholder            15000 non-null  object \n",
      "dtypes: float64(5), int64(3), object(3)\n",
      "memory usage: 1.3+ MB\n"
     ]
    }
   ],
   "source": [
    "boston.info()"
   ]
  },
  {
   "cell_type": "code",
   "execution_count": 77,
   "metadata": {},
   "outputs": [
    {
     "data": {
      "text/html": [
       "<div>\n",
       "<style scoped>\n",
       "    .dataframe tbody tr th:only-of-type {\n",
       "        vertical-align: middle;\n",
       "    }\n",
       "\n",
       "    .dataframe tbody tr th {\n",
       "        vertical-align: top;\n",
       "    }\n",
       "\n",
       "    .dataframe thead th {\n",
       "        text-align: right;\n",
       "    }\n",
       "</style>\n",
       "<table border=\"1\" class=\"dataframe\">\n",
       "  <thead>\n",
       "    <tr style=\"text-align: right;\">\n",
       "      <th></th>\n",
       "      <th>householdID</th>\n",
       "      <th>total_ppl</th>\n",
       "      <th>own_rent</th>\n",
       "      <th>square_foot</th>\n",
       "      <th>household_income</th>\n",
       "      <th>number_pets</th>\n",
       "      <th>region</th>\n",
       "      <th>entertainment_spend_est</th>\n",
       "      <th>travel_spend_est</th>\n",
       "      <th>under_12</th>\n",
       "      <th>LL_passholder</th>\n",
       "    </tr>\n",
       "  </thead>\n",
       "  <tbody>\n",
       "    <tr>\n",
       "      <th>0</th>\n",
       "      <td>1</td>\n",
       "      <td>1.0</td>\n",
       "      <td>own</td>\n",
       "      <td>3309</td>\n",
       "      <td>82050.03</td>\n",
       "      <td>1</td>\n",
       "      <td>South Shore</td>\n",
       "      <td>3189.11</td>\n",
       "      <td>3083.41</td>\n",
       "      <td>1.0</td>\n",
       "      <td>Yes</td>\n",
       "    </tr>\n",
       "    <tr>\n",
       "      <th>1</th>\n",
       "      <td>2</td>\n",
       "      <td>1.0</td>\n",
       "      <td>own</td>\n",
       "      <td>3814</td>\n",
       "      <td>83077.81</td>\n",
       "      <td>2</td>\n",
       "      <td>MetroWest</td>\n",
       "      <td>4175.35</td>\n",
       "      <td>4713.28</td>\n",
       "      <td>1.0</td>\n",
       "      <td>Yes</td>\n",
       "    </tr>\n",
       "    <tr>\n",
       "      <th>2</th>\n",
       "      <td>3</td>\n",
       "      <td>2.0</td>\n",
       "      <td>rent</td>\n",
       "      <td>2592</td>\n",
       "      <td>91401.41</td>\n",
       "      <td>2</td>\n",
       "      <td>North Shore</td>\n",
       "      <td>1814.98</td>\n",
       "      <td>3479.07</td>\n",
       "      <td>2.0</td>\n",
       "      <td>No</td>\n",
       "    </tr>\n",
       "    <tr>\n",
       "      <th>3</th>\n",
       "      <td>4</td>\n",
       "      <td>1.0</td>\n",
       "      <td>own</td>\n",
       "      <td>2628</td>\n",
       "      <td>73048.55</td>\n",
       "      <td>1</td>\n",
       "      <td>Middlesex</td>\n",
       "      <td>1945.14</td>\n",
       "      <td>3842.42</td>\n",
       "      <td>1.0</td>\n",
       "      <td>No</td>\n",
       "    </tr>\n",
       "    <tr>\n",
       "      <th>4</th>\n",
       "      <td>5</td>\n",
       "      <td>1.0</td>\n",
       "      <td>rent</td>\n",
       "      <td>2442</td>\n",
       "      <td>89145.36</td>\n",
       "      <td>2</td>\n",
       "      <td>Suffolk</td>\n",
       "      <td>4410.86</td>\n",
       "      <td>1913.28</td>\n",
       "      <td>1.0</td>\n",
       "      <td>Yes</td>\n",
       "    </tr>\n",
       "    <tr>\n",
       "      <th>5</th>\n",
       "      <td>6</td>\n",
       "      <td>1.0</td>\n",
       "      <td>own</td>\n",
       "      <td>1178</td>\n",
       "      <td>92344.81</td>\n",
       "      <td>2</td>\n",
       "      <td>Suffolk</td>\n",
       "      <td>3367.13</td>\n",
       "      <td>4921.84</td>\n",
       "      <td>1.0</td>\n",
       "      <td>No</td>\n",
       "    </tr>\n",
       "    <tr>\n",
       "      <th>6</th>\n",
       "      <td>7</td>\n",
       "      <td>1.0</td>\n",
       "      <td>own</td>\n",
       "      <td>3022</td>\n",
       "      <td>94399.56</td>\n",
       "      <td>1</td>\n",
       "      <td>Middlesex</td>\n",
       "      <td>3856.93</td>\n",
       "      <td>5157.12</td>\n",
       "      <td>1.0</td>\n",
       "      <td>No</td>\n",
       "    </tr>\n",
       "    <tr>\n",
       "      <th>7</th>\n",
       "      <td>8</td>\n",
       "      <td>2.0</td>\n",
       "      <td>own</td>\n",
       "      <td>2421</td>\n",
       "      <td>83902.08</td>\n",
       "      <td>1</td>\n",
       "      <td>South Shore</td>\n",
       "      <td>4451.73</td>\n",
       "      <td>4508.93</td>\n",
       "      <td>2.0</td>\n",
       "      <td>No</td>\n",
       "    </tr>\n",
       "    <tr>\n",
       "      <th>8</th>\n",
       "      <td>9</td>\n",
       "      <td>1.0</td>\n",
       "      <td>own</td>\n",
       "      <td>2657</td>\n",
       "      <td>112051.67</td>\n",
       "      <td>1</td>\n",
       "      <td>Suffolk</td>\n",
       "      <td>3015.27</td>\n",
       "      <td>4299.74</td>\n",
       "      <td>1.0</td>\n",
       "      <td>No</td>\n",
       "    </tr>\n",
       "    <tr>\n",
       "      <th>9</th>\n",
       "      <td>10</td>\n",
       "      <td>2.0</td>\n",
       "      <td>own</td>\n",
       "      <td>4298</td>\n",
       "      <td>101445.28</td>\n",
       "      <td>4</td>\n",
       "      <td>Suffolk</td>\n",
       "      <td>4478.24</td>\n",
       "      <td>3997.68</td>\n",
       "      <td>2.0</td>\n",
       "      <td>No</td>\n",
       "    </tr>\n",
       "  </tbody>\n",
       "</table>\n",
       "</div>"
      ],
      "text/plain": [
       "   householdID  total_ppl own_rent  square_foot  household_income  \\\n",
       "0            1        1.0      own         3309          82050.03   \n",
       "1            2        1.0      own         3814          83077.81   \n",
       "2            3        2.0     rent         2592          91401.41   \n",
       "3            4        1.0      own         2628          73048.55   \n",
       "4            5        1.0     rent         2442          89145.36   \n",
       "5            6        1.0      own         1178          92344.81   \n",
       "6            7        1.0      own         3022          94399.56   \n",
       "7            8        2.0      own         2421          83902.08   \n",
       "8            9        1.0      own         2657         112051.67   \n",
       "9           10        2.0      own         4298         101445.28   \n",
       "\n",
       "   number_pets       region  entertainment_spend_est  travel_spend_est  \\\n",
       "0            1  South Shore                  3189.11           3083.41   \n",
       "1            2    MetroWest                  4175.35           4713.28   \n",
       "2            2  North Shore                  1814.98           3479.07   \n",
       "3            1    Middlesex                  1945.14           3842.42   \n",
       "4            2      Suffolk                  4410.86           1913.28   \n",
       "5            2      Suffolk                  3367.13           4921.84   \n",
       "6            1    Middlesex                  3856.93           5157.12   \n",
       "7            1  South Shore                  4451.73           4508.93   \n",
       "8            1      Suffolk                  3015.27           4299.74   \n",
       "9            4      Suffolk                  4478.24           3997.68   \n",
       "\n",
       "   under_12 LL_passholder  \n",
       "0       1.0           Yes  \n",
       "1       1.0           Yes  \n",
       "2       2.0            No  \n",
       "3       1.0            No  \n",
       "4       1.0           Yes  \n",
       "5       1.0            No  \n",
       "6       1.0            No  \n",
       "7       2.0            No  \n",
       "8       1.0            No  \n",
       "9       2.0            No  "
      ]
     },
     "execution_count": 77,
     "metadata": {},
     "output_type": "execute_result"
    }
   ],
   "source": [
    "boston.head(10)"
   ]
  },
  {
   "cell_type": "code",
   "execution_count": 78,
   "metadata": {},
   "outputs": [
    {
     "data": {
      "text/plain": [
       "householdID                 0\n",
       "total_ppl                  75\n",
       "own_rent                    0\n",
       "square_foot                 0\n",
       "household_income            0\n",
       "number_pets                 0\n",
       "region                      0\n",
       "entertainment_spend_est     0\n",
       "travel_spend_est            0\n",
       "under_12                   75\n",
       "LL_passholder               0\n",
       "dtype: int64"
      ]
     },
     "execution_count": 78,
     "metadata": {},
     "output_type": "execute_result"
    }
   ],
   "source": [
    "boston.isnull().sum()"
   ]
  },
  {
   "cell_type": "code",
   "execution_count": 79,
   "metadata": {
    "scrolled": true
   },
   "outputs": [
    {
     "data": {
      "text/html": [
       "<div>\n",
       "<style scoped>\n",
       "    .dataframe tbody tr th:only-of-type {\n",
       "        vertical-align: middle;\n",
       "    }\n",
       "\n",
       "    .dataframe tbody tr th {\n",
       "        vertical-align: top;\n",
       "    }\n",
       "\n",
       "    .dataframe thead th {\n",
       "        text-align: right;\n",
       "    }\n",
       "</style>\n",
       "<table border=\"1\" class=\"dataframe\">\n",
       "  <thead>\n",
       "    <tr style=\"text-align: right;\">\n",
       "      <th></th>\n",
       "      <th>householdID</th>\n",
       "      <th>total_ppl</th>\n",
       "      <th>square_foot</th>\n",
       "      <th>household_income</th>\n",
       "      <th>number_pets</th>\n",
       "      <th>entertainment_spend_est</th>\n",
       "      <th>travel_spend_est</th>\n",
       "      <th>under_12</th>\n",
       "    </tr>\n",
       "  </thead>\n",
       "  <tbody>\n",
       "    <tr>\n",
       "      <th>count</th>\n",
       "      <td>15000.000000</td>\n",
       "      <td>14925.000000</td>\n",
       "      <td>15000.000000</td>\n",
       "      <td>15000.000000</td>\n",
       "      <td>15000.000000</td>\n",
       "      <td>15000.000000</td>\n",
       "      <td>15000.000000</td>\n",
       "      <td>14925.000000</td>\n",
       "    </tr>\n",
       "    <tr>\n",
       "      <th>mean</th>\n",
       "      <td>7500.500000</td>\n",
       "      <td>1.580570</td>\n",
       "      <td>3118.928600</td>\n",
       "      <td>84659.802060</td>\n",
       "      <td>1.509200</td>\n",
       "      <td>3451.736870</td>\n",
       "      <td>3943.419994</td>\n",
       "      <td>1.580570</td>\n",
       "    </tr>\n",
       "    <tr>\n",
       "      <th>std</th>\n",
       "      <td>4330.271354</td>\n",
       "      <td>0.815143</td>\n",
       "      <td>815.925967</td>\n",
       "      <td>25756.481173</td>\n",
       "      <td>0.790163</td>\n",
       "      <td>1229.005744</td>\n",
       "      <td>744.658639</td>\n",
       "      <td>0.815143</td>\n",
       "    </tr>\n",
       "    <tr>\n",
       "      <th>min</th>\n",
       "      <td>1.000000</td>\n",
       "      <td>0.000000</td>\n",
       "      <td>370.000000</td>\n",
       "      <td>-3078.560000</td>\n",
       "      <td>0.000000</td>\n",
       "      <td>-283.350000</td>\n",
       "      <td>1037.610000</td>\n",
       "      <td>0.000000</td>\n",
       "    </tr>\n",
       "    <tr>\n",
       "      <th>25%</th>\n",
       "      <td>3750.750000</td>\n",
       "      <td>1.000000</td>\n",
       "      <td>2506.000000</td>\n",
       "      <td>66787.702500</td>\n",
       "      <td>1.000000</td>\n",
       "      <td>2593.902500</td>\n",
       "      <td>3455.965000</td>\n",
       "      <td>1.000000</td>\n",
       "    </tr>\n",
       "    <tr>\n",
       "      <th>50%</th>\n",
       "      <td>7500.500000</td>\n",
       "      <td>2.000000</td>\n",
       "      <td>3042.000000</td>\n",
       "      <td>84303.245000</td>\n",
       "      <td>2.000000</td>\n",
       "      <td>3390.650000</td>\n",
       "      <td>3959.620000</td>\n",
       "      <td>2.000000</td>\n",
       "    </tr>\n",
       "    <tr>\n",
       "      <th>75%</th>\n",
       "      <td>11250.250000</td>\n",
       "      <td>2.000000</td>\n",
       "      <td>3738.000000</td>\n",
       "      <td>102643.917500</td>\n",
       "      <td>2.000000</td>\n",
       "      <td>4279.240000</td>\n",
       "      <td>4441.960000</td>\n",
       "      <td>2.000000</td>\n",
       "    </tr>\n",
       "    <tr>\n",
       "      <th>max</th>\n",
       "      <td>15000.000000</td>\n",
       "      <td>4.000000</td>\n",
       "      <td>6081.000000</td>\n",
       "      <td>171989.560000</td>\n",
       "      <td>4.000000</td>\n",
       "      <td>7942.620000</td>\n",
       "      <td>7014.070000</td>\n",
       "      <td>4.000000</td>\n",
       "    </tr>\n",
       "  </tbody>\n",
       "</table>\n",
       "</div>"
      ],
      "text/plain": [
       "        householdID     total_ppl   square_foot  household_income  \\\n",
       "count  15000.000000  14925.000000  15000.000000      15000.000000   \n",
       "mean    7500.500000      1.580570   3118.928600      84659.802060   \n",
       "std     4330.271354      0.815143    815.925967      25756.481173   \n",
       "min        1.000000      0.000000    370.000000      -3078.560000   \n",
       "25%     3750.750000      1.000000   2506.000000      66787.702500   \n",
       "50%     7500.500000      2.000000   3042.000000      84303.245000   \n",
       "75%    11250.250000      2.000000   3738.000000     102643.917500   \n",
       "max    15000.000000      4.000000   6081.000000     171989.560000   \n",
       "\n",
       "        number_pets  entertainment_spend_est  travel_spend_est      under_12  \n",
       "count  15000.000000             15000.000000      15000.000000  14925.000000  \n",
       "mean       1.509200              3451.736870       3943.419994      1.580570  \n",
       "std        0.790163              1229.005744        744.658639      0.815143  \n",
       "min        0.000000              -283.350000       1037.610000      0.000000  \n",
       "25%        1.000000              2593.902500       3455.965000      1.000000  \n",
       "50%        2.000000              3390.650000       3959.620000      2.000000  \n",
       "75%        2.000000              4279.240000       4441.960000      2.000000  \n",
       "max        4.000000              7942.620000       7014.070000      4.000000  "
      ]
     },
     "execution_count": 79,
     "metadata": {},
     "output_type": "execute_result"
    }
   ],
   "source": [
    "boston.describe()"
   ]
  },
  {
   "cell_type": "code",
   "execution_count": null,
   "metadata": {},
   "outputs": [],
   "source": [
    "##### we are assuming that the variable household_income in negitive because the people who has "
   ]
  },
  {
   "cell_type": "code",
   "execution_count": 80,
   "metadata": {},
   "outputs": [],
   "source": [
    "boston = boston.dropna()"
   ]
  },
  {
   "cell_type": "code",
   "execution_count": 81,
   "metadata": {},
   "outputs": [
    {
     "name": "stdout",
     "output_type": "stream",
     "text": [
      "<class 'pandas.core.frame.DataFrame'>\n",
      "Int64Index: 14925 entries, 0 to 14999\n",
      "Data columns (total 11 columns):\n",
      " #   Column                   Non-Null Count  Dtype  \n",
      "---  ------                   --------------  -----  \n",
      " 0   householdID              14925 non-null  int64  \n",
      " 1   total_ppl                14925 non-null  float64\n",
      " 2   own_rent                 14925 non-null  object \n",
      " 3   square_foot              14925 non-null  int64  \n",
      " 4   household_income         14925 non-null  float64\n",
      " 5   number_pets              14925 non-null  int64  \n",
      " 6   region                   14925 non-null  object \n",
      " 7   entertainment_spend_est  14925 non-null  float64\n",
      " 8   travel_spend_est         14925 non-null  float64\n",
      " 9   under_12                 14925 non-null  float64\n",
      " 10  LL_passholder            14925 non-null  object \n",
      "dtypes: float64(5), int64(3), object(3)\n",
      "memory usage: 1.4+ MB\n"
     ]
    }
   ],
   "source": [
    "boston.info()"
   ]
  },
  {
   "cell_type": "code",
   "execution_count": 82,
   "metadata": {},
   "outputs": [
    {
     "data": {
      "text/plain": [
       "householdID                0\n",
       "total_ppl                  0\n",
       "own_rent                   0\n",
       "square_foot                0\n",
       "household_income           0\n",
       "number_pets                0\n",
       "region                     0\n",
       "entertainment_spend_est    0\n",
       "travel_spend_est           0\n",
       "under_12                   0\n",
       "LL_passholder              0\n",
       "dtype: int64"
      ]
     },
     "execution_count": 82,
     "metadata": {},
     "output_type": "execute_result"
    }
   ],
   "source": [
    "boston.isnull().sum()"
   ]
  },
  {
   "cell_type": "code",
   "execution_count": 83,
   "metadata": {},
   "outputs": [
    {
     "data": {
      "text/html": [
       "<div>\n",
       "<style scoped>\n",
       "    .dataframe tbody tr th:only-of-type {\n",
       "        vertical-align: middle;\n",
       "    }\n",
       "\n",
       "    .dataframe tbody tr th {\n",
       "        vertical-align: top;\n",
       "    }\n",
       "\n",
       "    .dataframe thead th {\n",
       "        text-align: right;\n",
       "    }\n",
       "</style>\n",
       "<table border=\"1\" class=\"dataframe\">\n",
       "  <thead>\n",
       "    <tr style=\"text-align: right;\">\n",
       "      <th></th>\n",
       "      <th>householdID</th>\n",
       "      <th>total_ppl</th>\n",
       "      <th>square_foot</th>\n",
       "      <th>household_income</th>\n",
       "      <th>number_pets</th>\n",
       "      <th>entertainment_spend_est</th>\n",
       "      <th>travel_spend_est</th>\n",
       "      <th>under_12</th>\n",
       "    </tr>\n",
       "  </thead>\n",
       "  <tbody>\n",
       "    <tr>\n",
       "      <th>householdID</th>\n",
       "      <td>1.000000</td>\n",
       "      <td>-0.003450</td>\n",
       "      <td>0.000635</td>\n",
       "      <td>-0.001588</td>\n",
       "      <td>-0.000522</td>\n",
       "      <td>0.011138</td>\n",
       "      <td>-0.008562</td>\n",
       "      <td>-0.003450</td>\n",
       "    </tr>\n",
       "    <tr>\n",
       "      <th>total_ppl</th>\n",
       "      <td>-0.003450</td>\n",
       "      <td>1.000000</td>\n",
       "      <td>0.008347</td>\n",
       "      <td>-0.099323</td>\n",
       "      <td>0.008735</td>\n",
       "      <td>-0.052777</td>\n",
       "      <td>-0.054661</td>\n",
       "      <td>1.000000</td>\n",
       "    </tr>\n",
       "    <tr>\n",
       "      <th>square_foot</th>\n",
       "      <td>0.000635</td>\n",
       "      <td>0.008347</td>\n",
       "      <td>1.000000</td>\n",
       "      <td>0.040448</td>\n",
       "      <td>0.005560</td>\n",
       "      <td>0.024824</td>\n",
       "      <td>0.270302</td>\n",
       "      <td>0.008347</td>\n",
       "    </tr>\n",
       "    <tr>\n",
       "      <th>household_income</th>\n",
       "      <td>-0.001588</td>\n",
       "      <td>-0.099323</td>\n",
       "      <td>0.040448</td>\n",
       "      <td>1.000000</td>\n",
       "      <td>-0.006998</td>\n",
       "      <td>0.459452</td>\n",
       "      <td>0.304157</td>\n",
       "      <td>-0.099323</td>\n",
       "    </tr>\n",
       "    <tr>\n",
       "      <th>number_pets</th>\n",
       "      <td>-0.000522</td>\n",
       "      <td>0.008735</td>\n",
       "      <td>0.005560</td>\n",
       "      <td>-0.006998</td>\n",
       "      <td>1.000000</td>\n",
       "      <td>-0.009426</td>\n",
       "      <td>-0.006068</td>\n",
       "      <td>0.008735</td>\n",
       "    </tr>\n",
       "    <tr>\n",
       "      <th>entertainment_spend_est</th>\n",
       "      <td>0.011138</td>\n",
       "      <td>-0.052777</td>\n",
       "      <td>0.024824</td>\n",
       "      <td>0.459452</td>\n",
       "      <td>-0.009426</td>\n",
       "      <td>1.000000</td>\n",
       "      <td>0.275498</td>\n",
       "      <td>-0.052777</td>\n",
       "    </tr>\n",
       "    <tr>\n",
       "      <th>travel_spend_est</th>\n",
       "      <td>-0.008562</td>\n",
       "      <td>-0.054661</td>\n",
       "      <td>0.270302</td>\n",
       "      <td>0.304157</td>\n",
       "      <td>-0.006068</td>\n",
       "      <td>0.275498</td>\n",
       "      <td>1.000000</td>\n",
       "      <td>-0.054661</td>\n",
       "    </tr>\n",
       "    <tr>\n",
       "      <th>under_12</th>\n",
       "      <td>-0.003450</td>\n",
       "      <td>1.000000</td>\n",
       "      <td>0.008347</td>\n",
       "      <td>-0.099323</td>\n",
       "      <td>0.008735</td>\n",
       "      <td>-0.052777</td>\n",
       "      <td>-0.054661</td>\n",
       "      <td>1.000000</td>\n",
       "    </tr>\n",
       "  </tbody>\n",
       "</table>\n",
       "</div>"
      ],
      "text/plain": [
       "                         householdID  total_ppl  square_foot  \\\n",
       "householdID                 1.000000  -0.003450     0.000635   \n",
       "total_ppl                  -0.003450   1.000000     0.008347   \n",
       "square_foot                 0.000635   0.008347     1.000000   \n",
       "household_income           -0.001588  -0.099323     0.040448   \n",
       "number_pets                -0.000522   0.008735     0.005560   \n",
       "entertainment_spend_est     0.011138  -0.052777     0.024824   \n",
       "travel_spend_est           -0.008562  -0.054661     0.270302   \n",
       "under_12                   -0.003450   1.000000     0.008347   \n",
       "\n",
       "                         household_income  number_pets  \\\n",
       "householdID                     -0.001588    -0.000522   \n",
       "total_ppl                       -0.099323     0.008735   \n",
       "square_foot                      0.040448     0.005560   \n",
       "household_income                 1.000000    -0.006998   \n",
       "number_pets                     -0.006998     1.000000   \n",
       "entertainment_spend_est          0.459452    -0.009426   \n",
       "travel_spend_est                 0.304157    -0.006068   \n",
       "under_12                        -0.099323     0.008735   \n",
       "\n",
       "                         entertainment_spend_est  travel_spend_est  under_12  \n",
       "householdID                             0.011138         -0.008562 -0.003450  \n",
       "total_ppl                              -0.052777         -0.054661  1.000000  \n",
       "square_foot                             0.024824          0.270302  0.008347  \n",
       "household_income                        0.459452          0.304157 -0.099323  \n",
       "number_pets                            -0.009426         -0.006068  0.008735  \n",
       "entertainment_spend_est                 1.000000          0.275498 -0.052777  \n",
       "travel_spend_est                        0.275498          1.000000 -0.054661  \n",
       "under_12                               -0.052777         -0.054661  1.000000  "
      ]
     },
     "execution_count": 83,
     "metadata": {},
     "output_type": "execute_result"
    }
   ],
   "source": [
    "boston.corr()"
   ]
  },
  {
   "cell_type": "markdown",
   "metadata": {},
   "source": [
    "##### Cluster analysis is a distance-based method because it uses Euclidean distance (or some variant) in multidimensional space to assign objects to clusters to which they are closest. However, collinearity can become a major problem when such distance based measures are used. Hence we will remove the under_12 variable.  "
   ]
  },
  {
   "cell_type": "code",
   "execution_count": 84,
   "metadata": {},
   "outputs": [],
   "source": [
    "#droping the categorical variables \n",
    "boston_num = boston.drop([\"householdID\",\"own_rent\", \"region\", \"LL_passholder\",'under_12' ], axis = 1)"
   ]
  },
  {
   "cell_type": "code",
   "execution_count": 85,
   "metadata": {},
   "outputs": [
    {
     "name": "stdout",
     "output_type": "stream",
     "text": [
      "<class 'pandas.core.frame.DataFrame'>\n",
      "Int64Index: 14925 entries, 0 to 14999\n",
      "Data columns (total 6 columns):\n",
      " #   Column                   Non-Null Count  Dtype  \n",
      "---  ------                   --------------  -----  \n",
      " 0   total_ppl                14925 non-null  float64\n",
      " 1   square_foot              14925 non-null  int64  \n",
      " 2   household_income         14925 non-null  float64\n",
      " 3   number_pets              14925 non-null  int64  \n",
      " 4   entertainment_spend_est  14925 non-null  float64\n",
      " 5   travel_spend_est         14925 non-null  float64\n",
      "dtypes: float64(4), int64(2)\n",
      "memory usage: 816.2 KB\n"
     ]
    }
   ],
   "source": [
    "boston_num.info()"
   ]
  },
  {
   "cell_type": "markdown",
   "metadata": {},
   "source": [
    "#### scaling the value "
   ]
  },
  {
   "cell_type": "code",
   "execution_count": 87,
   "metadata": {},
   "outputs": [
    {
     "name": "stdout",
     "output_type": "stream",
     "text": [
      "       total_ppl  square_foot  household_income  number_pets  \\\n",
      "count   14925.00     14925.00          14925.00     14925.00   \n",
      "mean       -0.00         0.00              0.00        -0.00   \n",
      "std         1.00         1.00              1.00         1.00   \n",
      "min        -1.94        -3.37             -3.40        -1.91   \n",
      "25%        -0.71        -0.75             -0.69        -0.64   \n",
      "50%         0.51        -0.09             -0.01         0.62   \n",
      "75%         0.51         0.76              0.70         0.62   \n",
      "max         2.97         3.63              3.39         3.15   \n",
      "\n",
      "       entertainment_spend_est  travel_spend_est  \n",
      "count                 14925.00          14925.00  \n",
      "mean                      0.00             -0.00  \n",
      "std                       1.00              1.00  \n",
      "min                      -3.03             -3.90  \n",
      "25%                      -0.70             -0.65  \n",
      "50%                      -0.05              0.02  \n",
      "75%                       0.67              0.67  \n",
      "max                       3.65              4.12  \n"
     ]
    }
   ],
   "source": [
    "scaler= StandardScaler()\n",
    "boston_normalized = scaler.fit_transform(boston_num)\n",
    "boston_normalized = pd.DataFrame(data =boston_normalized, index = boston_num.index, columns=boston_num.columns )\n",
    "print(boston_normalized.describe().round(2))"
   ]
  },
  {
   "cell_type": "markdown",
   "metadata": {},
   "source": [
    "#### Elbow chart "
   ]
  },
  {
   "cell_type": "code",
   "execution_count": 89,
   "metadata": {},
   "outputs": [
    {
     "data": {
      "image/png": "[encoded data removed]",
      "text/plain": [
       "<Figure size 432x288 with 1 Axes>"
      ]
     },
     "metadata": {
      "needs_background": "light"
     },
     "output_type": "display_data"
    }
   ],
   "source": [
    "sse = {}\n",
    "for k in range(1, 8): \n",
    "    kmeans = KMeans(n_clusters=k, random_state=654)\n",
    "    kmeans.fit(boston_normalized)\n",
    "    sse[k] = kmeans.inertia_\n",
    "plt.title('The Elbow Method')\n",
    "plt.xlabel('k')\n",
    "plt.ylabel('SSE')\n",
    "sns.pointplot(x=list(sse.keys()), y=list(sse.values()));"
   ]
  },
  {
   "cell_type": "code",
   "execution_count": 90,
   "metadata": {},
   "outputs": [],
   "source": [
    "kmeans = KMeans(n_clusters=2, random_state=654)\n",
    "kmeans.fit(boston_normalized)\n",
    "cluster_labels = kmeans.labels_"
   ]
  },
  {
   "cell_type": "code",
   "execution_count": 91,
   "metadata": {},
   "outputs": [
    {
     "data": {
      "text/html": [
       "<div>\n",
       "<style scoped>\n",
       "    .dataframe tbody tr th:only-of-type {\n",
       "        vertical-align: middle;\n",
       "    }\n",
       "\n",
       "    .dataframe tbody tr th {\n",
       "        vertical-align: top;\n",
       "    }\n",
       "\n",
       "    .dataframe thead th {\n",
       "        text-align: right;\n",
       "    }\n",
       "</style>\n",
       "<table border=\"1\" class=\"dataframe\">\n",
       "  <thead>\n",
       "    <tr style=\"text-align: right;\">\n",
       "      <th></th>\n",
       "      <th>total_ppl</th>\n",
       "      <th>square_foot</th>\n",
       "      <th>household_income</th>\n",
       "      <th>number_pets</th>\n",
       "      <th>entertainment_spend_est</th>\n",
       "      <th>travel_spend_est</th>\n",
       "    </tr>\n",
       "    <tr>\n",
       "      <th>Cluster</th>\n",
       "      <th></th>\n",
       "      <th></th>\n",
       "      <th></th>\n",
       "      <th></th>\n",
       "      <th></th>\n",
       "      <th></th>\n",
       "    </tr>\n",
       "  </thead>\n",
       "  <tbody>\n",
       "    <tr>\n",
       "      <th>0</th>\n",
       "      <td>-0.22</td>\n",
       "      <td>0.19</td>\n",
       "      <td>0.60</td>\n",
       "      <td>-0.01</td>\n",
       "      <td>0.57</td>\n",
       "      <td>0.53</td>\n",
       "    </tr>\n",
       "    <tr>\n",
       "      <th>1</th>\n",
       "      <td>0.25</td>\n",
       "      <td>-0.21</td>\n",
       "      <td>-0.67</td>\n",
       "      <td>0.01</td>\n",
       "      <td>-0.63</td>\n",
       "      <td>-0.59</td>\n",
       "    </tr>\n",
       "  </tbody>\n",
       "</table>\n",
       "</div>"
      ],
      "text/plain": [
       "         total_ppl  square_foot  household_income  number_pets  \\\n",
       "Cluster                                                          \n",
       "0            -0.22         0.19              0.60        -0.01   \n",
       "1             0.25        -0.21             -0.67         0.01   \n",
       "\n",
       "         entertainment_spend_est  travel_spend_est  \n",
       "Cluster                                             \n",
       "0                           0.57              0.53  \n",
       "1                          -0.63             -0.59  "
      ]
     },
     "execution_count": 91,
     "metadata": {},
     "output_type": "execute_result"
    }
   ],
   "source": [
    "kmeans2 = boston_normalized.assign(Cluster = cluster_labels)\n",
    "kmeans2.groupby(['Cluster']).agg({\n",
    "'total_ppl': 'mean',\n",
    "'square_foot': 'mean',\n",
    "'household_income': 'mean',\n",
    "'number_pets': 'mean',\n",
    "'entertainment_spend_est': 'mean',\n",
    "'travel_spend_est': 'mean',\n",
    "}).round(2)"
   ]
  },
  {
   "cell_type": "code",
   "execution_count": 92,
   "metadata": {},
   "outputs": [],
   "source": [
    "kmeans = KMeans(n_clusters=3, random_state=654)\n",
    "kmeans.fit(boston_normalized)\n",
    "cluster_labels = kmeans.labels_"
   ]
  },
  {
   "cell_type": "code",
   "execution_count": 93,
   "metadata": {},
   "outputs": [
    {
     "data": {
      "text/html": [
       "<div>\n",
       "<style scoped>\n",
       "    .dataframe tbody tr th:only-of-type {\n",
       "        vertical-align: middle;\n",
       "    }\n",
       "\n",
       "    .dataframe tbody tr th {\n",
       "        vertical-align: top;\n",
       "    }\n",
       "\n",
       "    .dataframe thead th {\n",
       "        text-align: right;\n",
       "    }\n",
       "</style>\n",
       "<table border=\"1\" class=\"dataframe\">\n",
       "  <thead>\n",
       "    <tr style=\"text-align: right;\">\n",
       "      <th></th>\n",
       "      <th>total_ppl</th>\n",
       "      <th>square_foot</th>\n",
       "      <th>household_income</th>\n",
       "      <th>number_pets</th>\n",
       "      <th>entertainment_spend_est</th>\n",
       "      <th>travel_spend_est</th>\n",
       "    </tr>\n",
       "    <tr>\n",
       "      <th>Cluster</th>\n",
       "      <th></th>\n",
       "      <th></th>\n",
       "      <th></th>\n",
       "      <th></th>\n",
       "      <th></th>\n",
       "      <th></th>\n",
       "    </tr>\n",
       "  </thead>\n",
       "  <tbody>\n",
       "    <tr>\n",
       "      <th>0</th>\n",
       "      <td>0.30</td>\n",
       "      <td>-0.25</td>\n",
       "      <td>-0.81</td>\n",
       "      <td>0.02</td>\n",
       "      <td>-0.74</td>\n",
       "      <td>-0.71</td>\n",
       "    </tr>\n",
       "    <tr>\n",
       "      <th>1</th>\n",
       "      <td>0.01</td>\n",
       "      <td>1.02</td>\n",
       "      <td>0.30</td>\n",
       "      <td>-0.03</td>\n",
       "      <td>0.25</td>\n",
       "      <td>0.76</td>\n",
       "    </tr>\n",
       "    <tr>\n",
       "      <th>2</th>\n",
       "      <td>-0.35</td>\n",
       "      <td>-0.65</td>\n",
       "      <td>0.64</td>\n",
       "      <td>0.01</td>\n",
       "      <td>0.60</td>\n",
       "      <td>0.11</td>\n",
       "    </tr>\n",
       "  </tbody>\n",
       "</table>\n",
       "</div>"
      ],
      "text/plain": [
       "         total_ppl  square_foot  household_income  number_pets  \\\n",
       "Cluster                                                          \n",
       "0             0.30        -0.25             -0.81         0.02   \n",
       "1             0.01         1.02              0.30        -0.03   \n",
       "2            -0.35        -0.65              0.64         0.01   \n",
       "\n",
       "         entertainment_spend_est  travel_spend_est  \n",
       "Cluster                                             \n",
       "0                          -0.74             -0.71  \n",
       "1                           0.25              0.76  \n",
       "2                           0.60              0.11  "
      ]
     },
     "execution_count": 93,
     "metadata": {},
     "output_type": "execute_result"
    }
   ],
   "source": [
    "kmeans2 = boston_normalized.assign(Cluster = cluster_labels)\n",
    "kmeans2.groupby(['Cluster']).agg({\n",
    "'total_ppl': 'mean',\n",
    "'square_foot': 'mean',\n",
    "'household_income': 'mean',\n",
    "'number_pets': 'mean',\n",
    "'entertainment_spend_est': 'mean',\n",
    "'travel_spend_est': 'mean',\n",
    "}).round(2)"
   ]
  },
  {
   "cell_type": "code",
   "execution_count": 94,
   "metadata": {},
   "outputs": [],
   "source": [
    "kmeans = KMeans(n_clusters=4, random_state=654)\n",
    "kmeans.fit(boston_normalized)\n",
    "cluster_labels = kmeans.labels_"
   ]
  },
  {
   "cell_type": "code",
   "execution_count": 95,
   "metadata": {},
   "outputs": [
    {
     "data": {
      "text/html": [
       "<div>\n",
       "<style scoped>\n",
       "    .dataframe tbody tr th:only-of-type {\n",
       "        vertical-align: middle;\n",
       "    }\n",
       "\n",
       "    .dataframe tbody tr th {\n",
       "        vertical-align: top;\n",
       "    }\n",
       "\n",
       "    .dataframe thead th {\n",
       "        text-align: right;\n",
       "    }\n",
       "</style>\n",
       "<table border=\"1\" class=\"dataframe\">\n",
       "  <thead>\n",
       "    <tr style=\"text-align: right;\">\n",
       "      <th></th>\n",
       "      <th>total_ppl</th>\n",
       "      <th>square_foot</th>\n",
       "      <th>household_income</th>\n",
       "      <th>number_pets</th>\n",
       "      <th>entertainment_spend_est</th>\n",
       "      <th>travel_spend_est</th>\n",
       "    </tr>\n",
       "    <tr>\n",
       "      <th>Cluster</th>\n",
       "      <th></th>\n",
       "      <th></th>\n",
       "      <th></th>\n",
       "      <th></th>\n",
       "      <th></th>\n",
       "      <th></th>\n",
       "    </tr>\n",
       "  </thead>\n",
       "  <tbody>\n",
       "    <tr>\n",
       "      <th>0</th>\n",
       "      <td>0.50</td>\n",
       "      <td>0.07</td>\n",
       "      <td>0.95</td>\n",
       "      <td>0.01</td>\n",
       "      <td>1.06</td>\n",
       "      <td>0.56</td>\n",
       "    </tr>\n",
       "    <tr>\n",
       "      <th>1</th>\n",
       "      <td>0.17</td>\n",
       "      <td>1.05</td>\n",
       "      <td>-0.37</td>\n",
       "      <td>0.07</td>\n",
       "      <td>-0.43</td>\n",
       "      <td>0.42</td>\n",
       "    </tr>\n",
       "    <tr>\n",
       "      <th>2</th>\n",
       "      <td>-1.13</td>\n",
       "      <td>-0.35</td>\n",
       "      <td>0.38</td>\n",
       "      <td>-0.08</td>\n",
       "      <td>0.23</td>\n",
       "      <td>0.13</td>\n",
       "    </tr>\n",
       "    <tr>\n",
       "      <th>3</th>\n",
       "      <td>0.39</td>\n",
       "      <td>-0.61</td>\n",
       "      <td>-0.74</td>\n",
       "      <td>0.00</td>\n",
       "      <td>-0.65</td>\n",
       "      <td>-0.87</td>\n",
       "    </tr>\n",
       "  </tbody>\n",
       "</table>\n",
       "</div>"
      ],
      "text/plain": [
       "         total_ppl  square_foot  household_income  number_pets  \\\n",
       "Cluster                                                          \n",
       "0             0.50         0.07              0.95         0.01   \n",
       "1             0.17         1.05             -0.37         0.07   \n",
       "2            -1.13        -0.35              0.38        -0.08   \n",
       "3             0.39        -0.61             -0.74         0.00   \n",
       "\n",
       "         entertainment_spend_est  travel_spend_est  \n",
       "Cluster                                             \n",
       "0                           1.06              0.56  \n",
       "1                          -0.43              0.42  \n",
       "2                           0.23              0.13  \n",
       "3                          -0.65             -0.87  "
      ]
     },
     "execution_count": 95,
     "metadata": {},
     "output_type": "execute_result"
    }
   ],
   "source": [
    "kmeans2 = boston_normalized.assign(Cluster = cluster_labels)\n",
    "kmeans2.groupby(['Cluster']).agg({\n",
    "'total_ppl': 'mean',\n",
    "'square_foot': 'mean',\n",
    "'household_income': 'mean',\n",
    "'number_pets': 'mean',\n",
    "'entertainment_spend_est': 'mean',\n",
    "'travel_spend_est': 'mean'\n",
    "}).round(2)"
   ]
  },
  {
   "cell_type": "code",
   "execution_count": 96,
   "metadata": {},
   "outputs": [],
   "source": [
    "kmeans = KMeans(n_clusters=5, random_state=654)\n",
    "kmeans.fit(boston_normalized)\n",
    "cluster_labels = kmeans.labels_"
   ]
  },
  {
   "cell_type": "code",
   "execution_count": 97,
   "metadata": {},
   "outputs": [
    {
     "data": {
      "text/html": [
       "<div>\n",
       "<style scoped>\n",
       "    .dataframe tbody tr th:only-of-type {\n",
       "        vertical-align: middle;\n",
       "    }\n",
       "\n",
       "    .dataframe tbody tr th {\n",
       "        vertical-align: top;\n",
       "    }\n",
       "\n",
       "    .dataframe thead th {\n",
       "        text-align: right;\n",
       "    }\n",
       "</style>\n",
       "<table border=\"1\" class=\"dataframe\">\n",
       "  <thead>\n",
       "    <tr style=\"text-align: right;\">\n",
       "      <th></th>\n",
       "      <th>total_ppl</th>\n",
       "      <th>square_foot</th>\n",
       "      <th>household_income</th>\n",
       "      <th>number_pets</th>\n",
       "      <th>entertainment_spend_est</th>\n",
       "      <th>travel_spend_est</th>\n",
       "    </tr>\n",
       "    <tr>\n",
       "      <th>Cluster</th>\n",
       "      <th></th>\n",
       "      <th></th>\n",
       "      <th></th>\n",
       "      <th></th>\n",
       "      <th></th>\n",
       "      <th></th>\n",
       "    </tr>\n",
       "  </thead>\n",
       "  <tbody>\n",
       "    <tr>\n",
       "      <th>0</th>\n",
       "      <td>-1.16</td>\n",
       "      <td>-0.35</td>\n",
       "      <td>0.51</td>\n",
       "      <td>-0.04</td>\n",
       "      <td>0.35</td>\n",
       "      <td>0.18</td>\n",
       "    </tr>\n",
       "    <tr>\n",
       "      <th>1</th>\n",
       "      <td>0.31</td>\n",
       "      <td>-0.47</td>\n",
       "      <td>-0.66</td>\n",
       "      <td>-0.93</td>\n",
       "      <td>-0.58</td>\n",
       "      <td>-0.69</td>\n",
       "    </tr>\n",
       "    <tr>\n",
       "      <th>2</th>\n",
       "      <td>0.56</td>\n",
       "      <td>0.09</td>\n",
       "      <td>1.02</td>\n",
       "      <td>-0.02</td>\n",
       "      <td>1.15</td>\n",
       "      <td>0.59</td>\n",
       "    </tr>\n",
       "    <tr>\n",
       "      <th>3</th>\n",
       "      <td>0.34</td>\n",
       "      <td>-0.42</td>\n",
       "      <td>-0.62</td>\n",
       "      <td>0.95</td>\n",
       "      <td>-0.58</td>\n",
       "      <td>-0.67</td>\n",
       "    </tr>\n",
       "    <tr>\n",
       "      <th>4</th>\n",
       "      <td>0.04</td>\n",
       "      <td>1.19</td>\n",
       "      <td>-0.22</td>\n",
       "      <td>0.00</td>\n",
       "      <td>-0.30</td>\n",
       "      <td>0.61</td>\n",
       "    </tr>\n",
       "  </tbody>\n",
       "</table>\n",
       "</div>"
      ],
      "text/plain": [
       "         total_ppl  square_foot  household_income  number_pets  \\\n",
       "Cluster                                                          \n",
       "0            -1.16        -0.35              0.51        -0.04   \n",
       "1             0.31        -0.47             -0.66        -0.93   \n",
       "2             0.56         0.09              1.02        -0.02   \n",
       "3             0.34        -0.42             -0.62         0.95   \n",
       "4             0.04         1.19             -0.22         0.00   \n",
       "\n",
       "         entertainment_spend_est  travel_spend_est  \n",
       "Cluster                                             \n",
       "0                           0.35              0.18  \n",
       "1                          -0.58             -0.69  \n",
       "2                           1.15              0.59  \n",
       "3                          -0.58             -0.67  \n",
       "4                          -0.30              0.61  "
      ]
     },
     "execution_count": 97,
     "metadata": {},
     "output_type": "execute_result"
    }
   ],
   "source": [
    "kmeans2 = boston_normalized.assign(Cluster = cluster_labels)\n",
    "kmeans2.groupby(['Cluster']).agg({\n",
    "'total_ppl': 'mean',\n",
    "'square_foot': 'mean',\n",
    "'household_income': 'mean',\n",
    "'number_pets': 'mean',\n",
    "'entertainment_spend_est': 'mean',\n",
    "'travel_spend_est': 'mean',\n",
    "\n",
    "}).round(2)"
   ]
  },
  {
   "cell_type": "code",
   "execution_count": 98,
   "metadata": {},
   "outputs": [],
   "source": [
    "kmeans = KMeans(n_clusters=6, random_state=654)\n",
    "kmeans.fit(boston_normalized)\n",
    "cluster_labels = kmeans.labels_"
   ]
  },
  {
   "cell_type": "code",
   "execution_count": 99,
   "metadata": {},
   "outputs": [
    {
     "data": {
      "text/html": [
       "<div>\n",
       "<style scoped>\n",
       "    .dataframe tbody tr th:only-of-type {\n",
       "        vertical-align: middle;\n",
       "    }\n",
       "\n",
       "    .dataframe tbody tr th {\n",
       "        vertical-align: top;\n",
       "    }\n",
       "\n",
       "    .dataframe thead th {\n",
       "        text-align: right;\n",
       "    }\n",
       "</style>\n",
       "<table border=\"1\" class=\"dataframe\">\n",
       "  <thead>\n",
       "    <tr style=\"text-align: right;\">\n",
       "      <th></th>\n",
       "      <th>total_ppl</th>\n",
       "      <th>square_foot</th>\n",
       "      <th>household_income</th>\n",
       "      <th>number_pets</th>\n",
       "      <th>entertainment_spend_est</th>\n",
       "      <th>travel_spend_est</th>\n",
       "    </tr>\n",
       "    <tr>\n",
       "      <th>Cluster</th>\n",
       "      <th></th>\n",
       "      <th></th>\n",
       "      <th></th>\n",
       "      <th></th>\n",
       "      <th></th>\n",
       "      <th></th>\n",
       "    </tr>\n",
       "  </thead>\n",
       "  <tbody>\n",
       "    <tr>\n",
       "      <th>0</th>\n",
       "      <td>0.24</td>\n",
       "      <td>-0.75</td>\n",
       "      <td>-0.91</td>\n",
       "      <td>-0.00</td>\n",
       "      <td>-0.78</td>\n",
       "      <td>-1.19</td>\n",
       "    </tr>\n",
       "    <tr>\n",
       "      <th>1</th>\n",
       "      <td>-0.37</td>\n",
       "      <td>1.03</td>\n",
       "      <td>0.83</td>\n",
       "      <td>-0.12</td>\n",
       "      <td>0.82</td>\n",
       "      <td>0.97</td>\n",
       "    </tr>\n",
       "    <tr>\n",
       "      <th>2</th>\n",
       "      <td>0.27</td>\n",
       "      <td>0.61</td>\n",
       "      <td>-0.45</td>\n",
       "      <td>1.02</td>\n",
       "      <td>-0.51</td>\n",
       "      <td>0.14</td>\n",
       "    </tr>\n",
       "    <tr>\n",
       "      <th>3</th>\n",
       "      <td>-1.11</td>\n",
       "      <td>-0.62</td>\n",
       "      <td>0.43</td>\n",
       "      <td>-0.00</td>\n",
       "      <td>0.30</td>\n",
       "      <td>0.00</td>\n",
       "    </tr>\n",
       "    <tr>\n",
       "      <th>4</th>\n",
       "      <td>0.30</td>\n",
       "      <td>0.52</td>\n",
       "      <td>-0.51</td>\n",
       "      <td>-1.00</td>\n",
       "      <td>-0.52</td>\n",
       "      <td>0.12</td>\n",
       "    </tr>\n",
       "    <tr>\n",
       "      <th>5</th>\n",
       "      <td>0.87</td>\n",
       "      <td>-0.58</td>\n",
       "      <td>0.74</td>\n",
       "      <td>0.05</td>\n",
       "      <td>0.84</td>\n",
       "      <td>0.15</td>\n",
       "    </tr>\n",
       "  </tbody>\n",
       "</table>\n",
       "</div>"
      ],
      "text/plain": [
       "         total_ppl  square_foot  household_income  number_pets  \\\n",
       "Cluster                                                          \n",
       "0             0.24        -0.75             -0.91        -0.00   \n",
       "1            -0.37         1.03              0.83        -0.12   \n",
       "2             0.27         0.61             -0.45         1.02   \n",
       "3            -1.11        -0.62              0.43        -0.00   \n",
       "4             0.30         0.52             -0.51        -1.00   \n",
       "5             0.87        -0.58              0.74         0.05   \n",
       "\n",
       "         entertainment_spend_est  travel_spend_est  \n",
       "Cluster                                             \n",
       "0                          -0.78             -1.19  \n",
       "1                           0.82              0.97  \n",
       "2                          -0.51              0.14  \n",
       "3                           0.30              0.00  \n",
       "4                          -0.52              0.12  \n",
       "5                           0.84              0.15  "
      ]
     },
     "execution_count": 99,
     "metadata": {},
     "output_type": "execute_result"
    }
   ],
   "source": [
    "kmeans2 = boston_normalized.assign(Cluster = cluster_labels)\n",
    "kmeans2.groupby(['Cluster']).agg({\n",
    "'total_ppl': 'mean',\n",
    "'square_foot': 'mean',\n",
    "'household_income': 'mean',\n",
    "'number_pets': 'mean',\n",
    "'entertainment_spend_est': 'mean',\n",
    "'travel_spend_est': 'mean',\n",
    "\n",
    "}).round(2)"
   ]
  },
  {
   "cell_type": "code",
   "execution_count": 100,
   "metadata": {},
   "outputs": [],
   "source": [
    "kmeans = KMeans(n_clusters=7, random_state=654)\n",
    "kmeans.fit(boston_normalized)\n",
    "cluster_labels = kmeans.labels_"
   ]
  },
  {
   "cell_type": "code",
   "execution_count": 101,
   "metadata": {},
   "outputs": [
    {
     "data": {
      "text/html": [
       "<div>\n",
       "<style scoped>\n",
       "    .dataframe tbody tr th:only-of-type {\n",
       "        vertical-align: middle;\n",
       "    }\n",
       "\n",
       "    .dataframe tbody tr th {\n",
       "        vertical-align: top;\n",
       "    }\n",
       "\n",
       "    .dataframe thead th {\n",
       "        text-align: right;\n",
       "    }\n",
       "</style>\n",
       "<table border=\"1\" class=\"dataframe\">\n",
       "  <thead>\n",
       "    <tr style=\"text-align: right;\">\n",
       "      <th></th>\n",
       "      <th>total_ppl</th>\n",
       "      <th>square_foot</th>\n",
       "      <th>household_income</th>\n",
       "      <th>number_pets</th>\n",
       "      <th>entertainment_spend_est</th>\n",
       "      <th>travel_spend_est</th>\n",
       "    </tr>\n",
       "    <tr>\n",
       "      <th>Cluster</th>\n",
       "      <th></th>\n",
       "      <th></th>\n",
       "      <th></th>\n",
       "      <th></th>\n",
       "      <th></th>\n",
       "      <th></th>\n",
       "    </tr>\n",
       "  </thead>\n",
       "  <tbody>\n",
       "    <tr>\n",
       "      <th>0</th>\n",
       "      <td>-0.87</td>\n",
       "      <td>1.12</td>\n",
       "      <td>0.43</td>\n",
       "      <td>0.00</td>\n",
       "      <td>0.28</td>\n",
       "      <td>0.85</td>\n",
       "    </tr>\n",
       "    <tr>\n",
       "      <th>1</th>\n",
       "      <td>0.25</td>\n",
       "      <td>-0.59</td>\n",
       "      <td>-0.76</td>\n",
       "      <td>-0.93</td>\n",
       "      <td>-0.65</td>\n",
       "      <td>-0.84</td>\n",
       "    </tr>\n",
       "    <tr>\n",
       "      <th>2</th>\n",
       "      <td>0.53</td>\n",
       "      <td>-0.16</td>\n",
       "      <td>0.73</td>\n",
       "      <td>1.01</td>\n",
       "      <td>0.86</td>\n",
       "      <td>0.41</td>\n",
       "    </tr>\n",
       "    <tr>\n",
       "      <th>3</th>\n",
       "      <td>0.24</td>\n",
       "      <td>-0.53</td>\n",
       "      <td>-0.78</td>\n",
       "      <td>0.92</td>\n",
       "      <td>-0.71</td>\n",
       "      <td>-0.87</td>\n",
       "    </tr>\n",
       "    <tr>\n",
       "      <th>4</th>\n",
       "      <td>-1.13</td>\n",
       "      <td>-0.66</td>\n",
       "      <td>0.35</td>\n",
       "      <td>-0.01</td>\n",
       "      <td>0.20</td>\n",
       "      <td>-0.03</td>\n",
       "    </tr>\n",
       "    <tr>\n",
       "      <th>5</th>\n",
       "      <td>0.59</td>\n",
       "      <td>1.04</td>\n",
       "      <td>-0.62</td>\n",
       "      <td>-0.00</td>\n",
       "      <td>-0.64</td>\n",
       "      <td>0.18</td>\n",
       "    </tr>\n",
       "    <tr>\n",
       "      <th>6</th>\n",
       "      <td>0.49</td>\n",
       "      <td>-0.07</td>\n",
       "      <td>0.86</td>\n",
       "      <td>-0.97</td>\n",
       "      <td>0.89</td>\n",
       "      <td>0.50</td>\n",
       "    </tr>\n",
       "  </tbody>\n",
       "</table>\n",
       "</div>"
      ],
      "text/plain": [
       "         total_ppl  square_foot  household_income  number_pets  \\\n",
       "Cluster                                                          \n",
       "0            -0.87         1.12              0.43         0.00   \n",
       "1             0.25        -0.59             -0.76        -0.93   \n",
       "2             0.53        -0.16              0.73         1.01   \n",
       "3             0.24        -0.53             -0.78         0.92   \n",
       "4            -1.13        -0.66              0.35        -0.01   \n",
       "5             0.59         1.04             -0.62        -0.00   \n",
       "6             0.49        -0.07              0.86        -0.97   \n",
       "\n",
       "         entertainment_spend_est  travel_spend_est  \n",
       "Cluster                                             \n",
       "0                           0.28              0.85  \n",
       "1                          -0.65             -0.84  \n",
       "2                           0.86              0.41  \n",
       "3                          -0.71             -0.87  \n",
       "4                           0.20             -0.03  \n",
       "5                          -0.64              0.18  \n",
       "6                           0.89              0.50  "
      ]
     },
     "execution_count": 101,
     "metadata": {},
     "output_type": "execute_result"
    }
   ],
   "source": [
    "kmeans2 = boston_normalized.assign(Cluster = cluster_labels)\n",
    "kmeans2.groupby(['Cluster']).agg({\n",
    "'total_ppl': 'mean',\n",
    "'square_foot': 'mean',\n",
    "'household_income': 'mean',\n",
    "'number_pets': 'mean',\n",
    "'entertainment_spend_est': 'mean',\n",
    "'travel_spend_est': 'mean', \n",
    "}).round(2)"
   ]
  },
  {
   "cell_type": "markdown",
   "metadata": {},
   "source": [
    "###### we chose to make 4 cluster as it might be effective and we could use our marketing tool effectly on these number clusters "
   ]
  },
  {
   "cell_type": "code",
   "execution_count": 102,
   "metadata": {},
   "outputs": [],
   "source": [
    "kmeans = KMeans(n_clusters=4, random_state=654)\n",
    "kmeans.fit(boston_normalized)\n",
    "cluster_labels = kmeans.labels_"
   ]
  },
  {
   "cell_type": "code",
   "execution_count": 103,
   "metadata": {},
   "outputs": [
    {
     "data": {
      "text/html": [
       "<div>\n",
       "<style scoped>\n",
       "    .dataframe tbody tr th:only-of-type {\n",
       "        vertical-align: middle;\n",
       "    }\n",
       "\n",
       "    .dataframe tbody tr th {\n",
       "        vertical-align: top;\n",
       "    }\n",
       "\n",
       "    .dataframe thead th {\n",
       "        text-align: right;\n",
       "    }\n",
       "</style>\n",
       "<table border=\"1\" class=\"dataframe\">\n",
       "  <thead>\n",
       "    <tr style=\"text-align: right;\">\n",
       "      <th></th>\n",
       "      <th>total_ppl</th>\n",
       "      <th>square_foot</th>\n",
       "      <th>household_income</th>\n",
       "      <th>number_pets</th>\n",
       "      <th>entertainment_spend_est</th>\n",
       "      <th>travel_spend_est</th>\n",
       "    </tr>\n",
       "    <tr>\n",
       "      <th>Cluster</th>\n",
       "      <th></th>\n",
       "      <th></th>\n",
       "      <th></th>\n",
       "      <th></th>\n",
       "      <th></th>\n",
       "      <th></th>\n",
       "    </tr>\n",
       "  </thead>\n",
       "  <tbody>\n",
       "    <tr>\n",
       "      <th>0</th>\n",
       "      <td>0.50</td>\n",
       "      <td>0.07</td>\n",
       "      <td>0.95</td>\n",
       "      <td>0.01</td>\n",
       "      <td>1.06</td>\n",
       "      <td>0.56</td>\n",
       "    </tr>\n",
       "    <tr>\n",
       "      <th>1</th>\n",
       "      <td>0.17</td>\n",
       "      <td>1.05</td>\n",
       "      <td>-0.37</td>\n",
       "      <td>0.07</td>\n",
       "      <td>-0.43</td>\n",
       "      <td>0.42</td>\n",
       "    </tr>\n",
       "    <tr>\n",
       "      <th>2</th>\n",
       "      <td>-1.13</td>\n",
       "      <td>-0.35</td>\n",
       "      <td>0.38</td>\n",
       "      <td>-0.08</td>\n",
       "      <td>0.23</td>\n",
       "      <td>0.13</td>\n",
       "    </tr>\n",
       "    <tr>\n",
       "      <th>3</th>\n",
       "      <td>0.39</td>\n",
       "      <td>-0.61</td>\n",
       "      <td>-0.74</td>\n",
       "      <td>0.00</td>\n",
       "      <td>-0.65</td>\n",
       "      <td>-0.87</td>\n",
       "    </tr>\n",
       "  </tbody>\n",
       "</table>\n",
       "</div>"
      ],
      "text/plain": [
       "         total_ppl  square_foot  household_income  number_pets  \\\n",
       "Cluster                                                          \n",
       "0             0.50         0.07              0.95         0.01   \n",
       "1             0.17         1.05             -0.37         0.07   \n",
       "2            -1.13        -0.35              0.38        -0.08   \n",
       "3             0.39        -0.61             -0.74         0.00   \n",
       "\n",
       "         entertainment_spend_est  travel_spend_est  \n",
       "Cluster                                             \n",
       "0                           1.06              0.56  \n",
       "1                          -0.43              0.42  \n",
       "2                           0.23              0.13  \n",
       "3                          -0.65             -0.87  "
      ]
     },
     "execution_count": 103,
     "metadata": {},
     "output_type": "execute_result"
    }
   ],
   "source": [
    "kmeans2 = boston_normalized.assign(Cluster = cluster_labels)\n",
    "kmeans2.groupby(['Cluster']).agg({\n",
    "'total_ppl': 'mean',\n",
    "'square_foot': 'mean',\n",
    "'household_income': 'mean',\n",
    "'number_pets': 'mean',\n",
    "'entertainment_spend_est': 'mean',\n",
    "'travel_spend_est': 'mean',\n",
    "}).round(2)"
   ]
  },
  {
   "cell_type": "code",
   "execution_count": 104,
   "metadata": {},
   "outputs": [],
   "source": [
    "kmeans2['Cluster'] = kmeans2['Cluster'].astype('category')"
   ]
  },
  {
   "cell_type": "code",
   "execution_count": 105,
   "metadata": {},
   "outputs": [],
   "source": [
    "boston.insert(0, \"Cluster\", cluster_labels, True)"
   ]
  },
  {
   "cell_type": "code",
   "execution_count": 106,
   "metadata": {},
   "outputs": [],
   "source": [
    "boston2 = pd.get_dummies(boston, drop_first=False, \n",
    "                                columns=['own_rent', 'region','LL_passholder'])"
   ]
  },
  {
   "cell_type": "code",
   "execution_count": 107,
   "metadata": {},
   "outputs": [
    {
     "data": {
      "text/html": [
       "<div>\n",
       "<style scoped>\n",
       "    .dataframe tbody tr th:only-of-type {\n",
       "        vertical-align: middle;\n",
       "    }\n",
       "\n",
       "    .dataframe tbody tr th {\n",
       "        vertical-align: top;\n",
       "    }\n",
       "\n",
       "    .dataframe thead th {\n",
       "        text-align: right;\n",
       "    }\n",
       "</style>\n",
       "<table border=\"1\" class=\"dataframe\">\n",
       "  <thead>\n",
       "    <tr style=\"text-align: right;\">\n",
       "      <th></th>\n",
       "      <th>own_rent_own</th>\n",
       "      <th>own_rent_rent</th>\n",
       "      <th>region_MetroWest</th>\n",
       "      <th>region_Middlesex</th>\n",
       "      <th>region_North Shore</th>\n",
       "      <th>region_South Shore</th>\n",
       "      <th>region_Suffolk</th>\n",
       "      <th>LL_passholder_No</th>\n",
       "      <th>LL_passholder_Yes</th>\n",
       "    </tr>\n",
       "    <tr>\n",
       "      <th>Cluster</th>\n",
       "      <th></th>\n",
       "      <th></th>\n",
       "      <th></th>\n",
       "      <th></th>\n",
       "      <th></th>\n",
       "      <th></th>\n",
       "      <th></th>\n",
       "      <th></th>\n",
       "      <th></th>\n",
       "    </tr>\n",
       "  </thead>\n",
       "  <tbody>\n",
       "    <tr>\n",
       "      <th>0</th>\n",
       "      <td>0.76</td>\n",
       "      <td>0.24</td>\n",
       "      <td>0.66</td>\n",
       "      <td>0.11</td>\n",
       "      <td>0.00</td>\n",
       "      <td>0.12</td>\n",
       "      <td>0.12</td>\n",
       "      <td>0.78</td>\n",
       "      <td>0.22</td>\n",
       "    </tr>\n",
       "    <tr>\n",
       "      <th>1</th>\n",
       "      <td>0.82</td>\n",
       "      <td>0.18</td>\n",
       "      <td>0.04</td>\n",
       "      <td>0.34</td>\n",
       "      <td>0.24</td>\n",
       "      <td>0.28</td>\n",
       "      <td>0.12</td>\n",
       "      <td>0.80</td>\n",
       "      <td>0.20</td>\n",
       "    </tr>\n",
       "    <tr>\n",
       "      <th>2</th>\n",
       "      <td>0.74</td>\n",
       "      <td>0.26</td>\n",
       "      <td>0.15</td>\n",
       "      <td>0.13</td>\n",
       "      <td>0.03</td>\n",
       "      <td>0.15</td>\n",
       "      <td>0.54</td>\n",
       "      <td>0.78</td>\n",
       "      <td>0.22</td>\n",
       "    </tr>\n",
       "    <tr>\n",
       "      <th>3</th>\n",
       "      <td>0.70</td>\n",
       "      <td>0.30</td>\n",
       "      <td>0.02</td>\n",
       "      <td>0.23</td>\n",
       "      <td>0.48</td>\n",
       "      <td>0.23</td>\n",
       "      <td>0.04</td>\n",
       "      <td>0.79</td>\n",
       "      <td>0.21</td>\n",
       "    </tr>\n",
       "  </tbody>\n",
       "</table>\n",
       "</div>"
      ],
      "text/plain": [
       "         own_rent_own  own_rent_rent  region_MetroWest  region_Middlesex  \\\n",
       "Cluster                                                                    \n",
       "0                0.76           0.24              0.66              0.11   \n",
       "1                0.82           0.18              0.04              0.34   \n",
       "2                0.74           0.26              0.15              0.13   \n",
       "3                0.70           0.30              0.02              0.23   \n",
       "\n",
       "         region_North Shore  region_South Shore  region_Suffolk  \\\n",
       "Cluster                                                           \n",
       "0                      0.00                0.12            0.12   \n",
       "1                      0.24                0.28            0.12   \n",
       "2                      0.03                0.15            0.54   \n",
       "3                      0.48                0.23            0.04   \n",
       "\n",
       "         LL_passholder_No  LL_passholder_Yes  \n",
       "Cluster                                       \n",
       "0                    0.78               0.22  \n",
       "1                    0.80               0.20  \n",
       "2                    0.78               0.22  \n",
       "3                    0.79               0.21  "
      ]
     },
     "execution_count": 107,
     "metadata": {},
     "output_type": "execute_result"
    }
   ],
   "source": [
    "boston2.groupby(['Cluster']).agg({\n",
    "'own_rent_own': 'mean' ,\n",
    "'own_rent_rent': \"mean\",\n",
    "'region_MetroWest': \"mean\", 'region_Middlesex': \"mean\", 'region_North Shore': \"mean\",\n",
    "'region_South Shore': \"mean\", 'region_Suffolk': \"mean\", 'LL_passholder_No': \"mean\",\n",
    "'LL_passholder_Yes': \"mean\"\n",
    "}).round(2)"
   ]
  },
  {
   "cell_type": "code",
   "execution_count": 108,
   "metadata": {},
   "outputs": [
    {
     "data": {
      "text/html": [
       "<div>\n",
       "<style scoped>\n",
       "    .dataframe tbody tr th:only-of-type {\n",
       "        vertical-align: middle;\n",
       "    }\n",
       "\n",
       "    .dataframe tbody tr th {\n",
       "        vertical-align: top;\n",
       "    }\n",
       "\n",
       "    .dataframe thead th {\n",
       "        text-align: right;\n",
       "    }\n",
       "</style>\n",
       "<table border=\"1\" class=\"dataframe\">\n",
       "  <thead>\n",
       "    <tr style=\"text-align: right;\">\n",
       "      <th></th>\n",
       "      <th>own_rent_own</th>\n",
       "    </tr>\n",
       "    <tr>\n",
       "      <th>Cluster</th>\n",
       "      <th></th>\n",
       "    </tr>\n",
       "  </thead>\n",
       "  <tbody>\n",
       "    <tr>\n",
       "      <th>0</th>\n",
       "      <td>1</td>\n",
       "    </tr>\n",
       "    <tr>\n",
       "      <th>1</th>\n",
       "      <td>1</td>\n",
       "    </tr>\n",
       "    <tr>\n",
       "      <th>2</th>\n",
       "      <td>1</td>\n",
       "    </tr>\n",
       "    <tr>\n",
       "      <th>3</th>\n",
       "      <td>1</td>\n",
       "    </tr>\n",
       "  </tbody>\n",
       "</table>\n",
       "</div>"
      ],
      "text/plain": [
       "         own_rent_own\n",
       "Cluster              \n",
       "0                   1\n",
       "1                   1\n",
       "2                   1\n",
       "3                   1"
      ]
     },
     "execution_count": 108,
     "metadata": {},
     "output_type": "execute_result"
    }
   ],
   "source": [
    "boston2[['own_rent_own', 'Cluster']].groupby('Cluster').agg(pd.Series.mode)"
   ]
  },
  {
   "cell_type": "code",
   "execution_count": 109,
   "metadata": {},
   "outputs": [
    {
     "data": {
      "text/html": [
       "<div>\n",
       "<style scoped>\n",
       "    .dataframe tbody tr th:only-of-type {\n",
       "        vertical-align: middle;\n",
       "    }\n",
       "\n",
       "    .dataframe tbody tr th {\n",
       "        vertical-align: top;\n",
       "    }\n",
       "\n",
       "    .dataframe thead th {\n",
       "        text-align: right;\n",
       "    }\n",
       "</style>\n",
       "<table border=\"1\" class=\"dataframe\">\n",
       "  <thead>\n",
       "    <tr style=\"text-align: right;\">\n",
       "      <th></th>\n",
       "      <th>own_rent_rent</th>\n",
       "    </tr>\n",
       "    <tr>\n",
       "      <th>Cluster</th>\n",
       "      <th></th>\n",
       "    </tr>\n",
       "  </thead>\n",
       "  <tbody>\n",
       "    <tr>\n",
       "      <th>0</th>\n",
       "      <td>0</td>\n",
       "    </tr>\n",
       "    <tr>\n",
       "      <th>1</th>\n",
       "      <td>0</td>\n",
       "    </tr>\n",
       "    <tr>\n",
       "      <th>2</th>\n",
       "      <td>0</td>\n",
       "    </tr>\n",
       "    <tr>\n",
       "      <th>3</th>\n",
       "      <td>0</td>\n",
       "    </tr>\n",
       "  </tbody>\n",
       "</table>\n",
       "</div>"
      ],
      "text/plain": [
       "         own_rent_rent\n",
       "Cluster               \n",
       "0                    0\n",
       "1                    0\n",
       "2                    0\n",
       "3                    0"
      ]
     },
     "execution_count": 109,
     "metadata": {},
     "output_type": "execute_result"
    }
   ],
   "source": [
    "boston2[['own_rent_rent', 'Cluster']].groupby('Cluster').agg(pd.Series.mode)"
   ]
  },
  {
   "cell_type": "code",
   "execution_count": 110,
   "metadata": {},
   "outputs": [
    {
     "data": {
      "text/html": [
       "<div>\n",
       "<style scoped>\n",
       "    .dataframe tbody tr th:only-of-type {\n",
       "        vertical-align: middle;\n",
       "    }\n",
       "\n",
       "    .dataframe tbody tr th {\n",
       "        vertical-align: top;\n",
       "    }\n",
       "\n",
       "    .dataframe thead th {\n",
       "        text-align: right;\n",
       "    }\n",
       "</style>\n",
       "<table border=\"1\" class=\"dataframe\">\n",
       "  <thead>\n",
       "    <tr style=\"text-align: right;\">\n",
       "      <th></th>\n",
       "      <th>region_MetroWest</th>\n",
       "    </tr>\n",
       "    <tr>\n",
       "      <th>Cluster</th>\n",
       "      <th></th>\n",
       "    </tr>\n",
       "  </thead>\n",
       "  <tbody>\n",
       "    <tr>\n",
       "      <th>0</th>\n",
       "      <td>1</td>\n",
       "    </tr>\n",
       "    <tr>\n",
       "      <th>1</th>\n",
       "      <td>0</td>\n",
       "    </tr>\n",
       "    <tr>\n",
       "      <th>2</th>\n",
       "      <td>0</td>\n",
       "    </tr>\n",
       "    <tr>\n",
       "      <th>3</th>\n",
       "      <td>0</td>\n",
       "    </tr>\n",
       "  </tbody>\n",
       "</table>\n",
       "</div>"
      ],
      "text/plain": [
       "         region_MetroWest\n",
       "Cluster                  \n",
       "0                       1\n",
       "1                       0\n",
       "2                       0\n",
       "3                       0"
      ]
     },
     "execution_count": 110,
     "metadata": {},
     "output_type": "execute_result"
    }
   ],
   "source": [
    "boston2[['region_MetroWest', 'Cluster']].groupby('Cluster').agg(pd.Series.mode)"
   ]
  },
  {
   "cell_type": "code",
   "execution_count": 111,
   "metadata": {},
   "outputs": [
    {
     "data": {
      "text/html": [
       "<div>\n",
       "<style scoped>\n",
       "    .dataframe tbody tr th:only-of-type {\n",
       "        vertical-align: middle;\n",
       "    }\n",
       "\n",
       "    .dataframe tbody tr th {\n",
       "        vertical-align: top;\n",
       "    }\n",
       "\n",
       "    .dataframe thead th {\n",
       "        text-align: right;\n",
       "    }\n",
       "</style>\n",
       "<table border=\"1\" class=\"dataframe\">\n",
       "  <thead>\n",
       "    <tr style=\"text-align: right;\">\n",
       "      <th></th>\n",
       "      <th>region_Middlesex</th>\n",
       "    </tr>\n",
       "    <tr>\n",
       "      <th>Cluster</th>\n",
       "      <th></th>\n",
       "    </tr>\n",
       "  </thead>\n",
       "  <tbody>\n",
       "    <tr>\n",
       "      <th>0</th>\n",
       "      <td>0</td>\n",
       "    </tr>\n",
       "    <tr>\n",
       "      <th>1</th>\n",
       "      <td>0</td>\n",
       "    </tr>\n",
       "    <tr>\n",
       "      <th>2</th>\n",
       "      <td>0</td>\n",
       "    </tr>\n",
       "    <tr>\n",
       "      <th>3</th>\n",
       "      <td>0</td>\n",
       "    </tr>\n",
       "  </tbody>\n",
       "</table>\n",
       "</div>"
      ],
      "text/plain": [
       "         region_Middlesex\n",
       "Cluster                  \n",
       "0                       0\n",
       "1                       0\n",
       "2                       0\n",
       "3                       0"
      ]
     },
     "execution_count": 111,
     "metadata": {},
     "output_type": "execute_result"
    }
   ],
   "source": [
    "boston2[['region_Middlesex', 'Cluster']].groupby('Cluster').agg(pd.Series.mode)"
   ]
  },
  {
   "cell_type": "code",
   "execution_count": 112,
   "metadata": {},
   "outputs": [
    {
     "data": {
      "text/html": [
       "<div>\n",
       "<style scoped>\n",
       "    .dataframe tbody tr th:only-of-type {\n",
       "        vertical-align: middle;\n",
       "    }\n",
       "\n",
       "    .dataframe tbody tr th {\n",
       "        vertical-align: top;\n",
       "    }\n",
       "\n",
       "    .dataframe thead th {\n",
       "        text-align: right;\n",
       "    }\n",
       "</style>\n",
       "<table border=\"1\" class=\"dataframe\">\n",
       "  <thead>\n",
       "    <tr style=\"text-align: right;\">\n",
       "      <th></th>\n",
       "      <th>region_North Shore</th>\n",
       "    </tr>\n",
       "    <tr>\n",
       "      <th>Cluster</th>\n",
       "      <th></th>\n",
       "    </tr>\n",
       "  </thead>\n",
       "  <tbody>\n",
       "    <tr>\n",
       "      <th>0</th>\n",
       "      <td>0</td>\n",
       "    </tr>\n",
       "    <tr>\n",
       "      <th>1</th>\n",
       "      <td>0</td>\n",
       "    </tr>\n",
       "    <tr>\n",
       "      <th>2</th>\n",
       "      <td>0</td>\n",
       "    </tr>\n",
       "    <tr>\n",
       "      <th>3</th>\n",
       "      <td>0</td>\n",
       "    </tr>\n",
       "  </tbody>\n",
       "</table>\n",
       "</div>"
      ],
      "text/plain": [
       "         region_North Shore\n",
       "Cluster                    \n",
       "0                         0\n",
       "1                         0\n",
       "2                         0\n",
       "3                         0"
      ]
     },
     "execution_count": 112,
     "metadata": {},
     "output_type": "execute_result"
    }
   ],
   "source": [
    "boston2[['region_North Shore', 'Cluster']].groupby('Cluster').agg(pd.Series.mode)"
   ]
  },
  {
   "cell_type": "code",
   "execution_count": 113,
   "metadata": {},
   "outputs": [
    {
     "data": {
      "text/html": [
       "<div>\n",
       "<style scoped>\n",
       "    .dataframe tbody tr th:only-of-type {\n",
       "        vertical-align: middle;\n",
       "    }\n",
       "\n",
       "    .dataframe tbody tr th {\n",
       "        vertical-align: top;\n",
       "    }\n",
       "\n",
       "    .dataframe thead th {\n",
       "        text-align: right;\n",
       "    }\n",
       "</style>\n",
       "<table border=\"1\" class=\"dataframe\">\n",
       "  <thead>\n",
       "    <tr style=\"text-align: right;\">\n",
       "      <th></th>\n",
       "      <th>region_South Shore</th>\n",
       "    </tr>\n",
       "    <tr>\n",
       "      <th>Cluster</th>\n",
       "      <th></th>\n",
       "    </tr>\n",
       "  </thead>\n",
       "  <tbody>\n",
       "    <tr>\n",
       "      <th>0</th>\n",
       "      <td>0</td>\n",
       "    </tr>\n",
       "    <tr>\n",
       "      <th>1</th>\n",
       "      <td>0</td>\n",
       "    </tr>\n",
       "    <tr>\n",
       "      <th>2</th>\n",
       "      <td>0</td>\n",
       "    </tr>\n",
       "    <tr>\n",
       "      <th>3</th>\n",
       "      <td>0</td>\n",
       "    </tr>\n",
       "  </tbody>\n",
       "</table>\n",
       "</div>"
      ],
      "text/plain": [
       "         region_South Shore\n",
       "Cluster                    \n",
       "0                         0\n",
       "1                         0\n",
       "2                         0\n",
       "3                         0"
      ]
     },
     "execution_count": 113,
     "metadata": {},
     "output_type": "execute_result"
    }
   ],
   "source": [
    "boston2[['region_South Shore', 'Cluster']].groupby('Cluster').agg(pd.Series.mode)"
   ]
  },
  {
   "cell_type": "code",
   "execution_count": 114,
   "metadata": {},
   "outputs": [
    {
     "data": {
      "text/html": [
       "<div>\n",
       "<style scoped>\n",
       "    .dataframe tbody tr th:only-of-type {\n",
       "        vertical-align: middle;\n",
       "    }\n",
       "\n",
       "    .dataframe tbody tr th {\n",
       "        vertical-align: top;\n",
       "    }\n",
       "\n",
       "    .dataframe thead th {\n",
       "        text-align: right;\n",
       "    }\n",
       "</style>\n",
       "<table border=\"1\" class=\"dataframe\">\n",
       "  <thead>\n",
       "    <tr style=\"text-align: right;\">\n",
       "      <th></th>\n",
       "      <th>region_Suffolk</th>\n",
       "    </tr>\n",
       "    <tr>\n",
       "      <th>Cluster</th>\n",
       "      <th></th>\n",
       "    </tr>\n",
       "  </thead>\n",
       "  <tbody>\n",
       "    <tr>\n",
       "      <th>0</th>\n",
       "      <td>0</td>\n",
       "    </tr>\n",
       "    <tr>\n",
       "      <th>1</th>\n",
       "      <td>0</td>\n",
       "    </tr>\n",
       "    <tr>\n",
       "      <th>2</th>\n",
       "      <td>1</td>\n",
       "    </tr>\n",
       "    <tr>\n",
       "      <th>3</th>\n",
       "      <td>0</td>\n",
       "    </tr>\n",
       "  </tbody>\n",
       "</table>\n",
       "</div>"
      ],
      "text/plain": [
       "         region_Suffolk\n",
       "Cluster                \n",
       "0                     0\n",
       "1                     0\n",
       "2                     1\n",
       "3                     0"
      ]
     },
     "execution_count": 114,
     "metadata": {},
     "output_type": "execute_result"
    }
   ],
   "source": [
    "boston2[['region_Suffolk', 'Cluster']].groupby('Cluster').agg(pd.Series.mode)"
   ]
  },
  {
   "cell_type": "code",
   "execution_count": 115,
   "metadata": {},
   "outputs": [
    {
     "data": {
      "text/html": [
       "<div>\n",
       "<style scoped>\n",
       "    .dataframe tbody tr th:only-of-type {\n",
       "        vertical-align: middle;\n",
       "    }\n",
       "\n",
       "    .dataframe tbody tr th {\n",
       "        vertical-align: top;\n",
       "    }\n",
       "\n",
       "    .dataframe thead th {\n",
       "        text-align: right;\n",
       "    }\n",
       "</style>\n",
       "<table border=\"1\" class=\"dataframe\">\n",
       "  <thead>\n",
       "    <tr style=\"text-align: right;\">\n",
       "      <th></th>\n",
       "      <th>LL_passholder_No</th>\n",
       "    </tr>\n",
       "    <tr>\n",
       "      <th>Cluster</th>\n",
       "      <th></th>\n",
       "    </tr>\n",
       "  </thead>\n",
       "  <tbody>\n",
       "    <tr>\n",
       "      <th>0</th>\n",
       "      <td>1</td>\n",
       "    </tr>\n",
       "    <tr>\n",
       "      <th>1</th>\n",
       "      <td>1</td>\n",
       "    </tr>\n",
       "    <tr>\n",
       "      <th>2</th>\n",
       "      <td>1</td>\n",
       "    </tr>\n",
       "    <tr>\n",
       "      <th>3</th>\n",
       "      <td>1</td>\n",
       "    </tr>\n",
       "  </tbody>\n",
       "</table>\n",
       "</div>"
      ],
      "text/plain": [
       "         LL_passholder_No\n",
       "Cluster                  \n",
       "0                       1\n",
       "1                       1\n",
       "2                       1\n",
       "3                       1"
      ]
     },
     "execution_count": 115,
     "metadata": {},
     "output_type": "execute_result"
    }
   ],
   "source": [
    "boston2[['LL_passholder_No', 'Cluster']].groupby('Cluster').agg(pd.Series.mode)"
   ]
  },
  {
   "cell_type": "code",
   "execution_count": 116,
   "metadata": {},
   "outputs": [
    {
     "data": {
      "text/html": [
       "<div>\n",
       "<style scoped>\n",
       "    .dataframe tbody tr th:only-of-type {\n",
       "        vertical-align: middle;\n",
       "    }\n",
       "\n",
       "    .dataframe tbody tr th {\n",
       "        vertical-align: top;\n",
       "    }\n",
       "\n",
       "    .dataframe thead th {\n",
       "        text-align: right;\n",
       "    }\n",
       "</style>\n",
       "<table border=\"1\" class=\"dataframe\">\n",
       "  <thead>\n",
       "    <tr style=\"text-align: right;\">\n",
       "      <th></th>\n",
       "      <th>LL_passholder_Yes</th>\n",
       "    </tr>\n",
       "    <tr>\n",
       "      <th>Cluster</th>\n",
       "      <th></th>\n",
       "    </tr>\n",
       "  </thead>\n",
       "  <tbody>\n",
       "    <tr>\n",
       "      <th>0</th>\n",
       "      <td>0</td>\n",
       "    </tr>\n",
       "    <tr>\n",
       "      <th>1</th>\n",
       "      <td>0</td>\n",
       "    </tr>\n",
       "    <tr>\n",
       "      <th>2</th>\n",
       "      <td>0</td>\n",
       "    </tr>\n",
       "    <tr>\n",
       "      <th>3</th>\n",
       "      <td>0</td>\n",
       "    </tr>\n",
       "  </tbody>\n",
       "</table>\n",
       "</div>"
      ],
      "text/plain": [
       "         LL_passholder_Yes\n",
       "Cluster                   \n",
       "0                        0\n",
       "1                        0\n",
       "2                        0\n",
       "3                        0"
      ]
     },
     "execution_count": 116,
     "metadata": {},
     "output_type": "execute_result"
    }
   ],
   "source": [
    "boston2[['LL_passholder_Yes', 'Cluster']].groupby('Cluster').agg(pd.Series.mode)"
   ]
  },
  {
   "cell_type": "markdown",
   "metadata": {},
   "source": [
    "cluster 0 = *Big money* = This cluster has not a lot of people living in the house but the income of that house is way too above the mean. these people also like to spend a lot on entertainment, they are an Entrainment Enthusiasts and somewhat like traveling From categorical variable we got to know that they were from region MetroWest. The best way to approach these people would be to make send out ads on OTTs like Hulu, and Netflix or use social media marketing techniques and tell them about the rides that lobster land has and also about the shows lobster lands has as they are more about entertainment. They are attached more towards entertainment hence we can also collaborate with other Board-way shows and either give them a Coupons for those shows or we can get those Broadway shows to perform at lobster land.  \n",
    "\n",
    "Cluster 1 = *bankrupt mansion* = these people are living in big square feet houses ( mansions) but do not have a lot of household income. They do love having pets in their house and also love to travel but are not very big fans of entertainment. To attract these people I would suggest having ads about the journey to lobster land, we can use social media marketing tools like reels, Carousel, and many more. These people like to spend more on travel hence we can attract them by showing how Beautiful Maine and lobster and using words related to traveling would do the trick.\n",
    "\n",
    "Cluster 2 = *Dream on* = The people in this cluster have very less people living in their household but with fewer square feet area and near to average income. These people spend about the same amount on both entertainment and travel. They are not very enthusiastic about spending on both categories. They also don't like pets that much, from categorical variable we also got to know that people in this cluster are more from region Suffolk. To reach this audience we would suggest that newspapers, journals, and social media would be ideal. As these people tend to spend on both entertainment and travel but not as much as other groups. Hence, it would be a little hard to get them to come to lobster land perhaps using effective social media marketing tools should do the trick. We can run an Advertisement of testimonials of the people liking the lobster land and asking people to share the picture on social and it might make the people in this group and feeling of excitement and FOMO which might push them off the edge to get to come to lobster land. We could also talk about as suffolk is closer to maine and it would be easier for them to come if they want to get a quick get away from their hectic schedule.     \n",
    "\n",
    "Cluster 3 = *Down and out* = these people have less than average space and also the household income very low, they are neutral about having pets. As the income is less, they are also not spending that much on Entertainment and travel. To reach this audience I would suggest that we should use coupons and discounts at lobster land. These people tend to spend less and giving them some offers might motivate them to come to lobster land. "
   ]
  },
  {
   "cell_type": "markdown",
   "metadata": {},
   "source": [
    "##### Visualisation "
   ]
  },
  {
   "cell_type": "code",
   "execution_count": 117,
   "metadata": {},
   "outputs": [
    {
     "data": {
      "image/png": "[encoded data removed]",
      "text/plain": [
       "<Figure size 432x288 with 1 Axes>"
      ]
     },
     "metadata": {
      "needs_background": "light"
     },
     "output_type": "display_data"
    }
   ],
   "source": [
    "sns.barplot(x='Cluster', y='entertainment_spend_est', data=kmeans2, ci = None);"
   ]
  },
  {
   "cell_type": "markdown",
   "metadata": {},
   "source": [
    "When we look at the above graph we can see that cluster 3 is totay not about entertainment speniding they don't like to spend money on Entertainment. The cluster 1 also doesn't like spending too much on entertainment. But cluster 0 they are all about it. They love Being entertained and will Spend a lot of money on it. The cluster 1 also doesn't like spending too much on entertainment. cluster 2 is on the fence about spending money on entertainment tey do like to spend money on entertainment but they are very Particularly about it. "
   ]
  },
  {
   "cell_type": "code",
   "execution_count": 118,
   "metadata": {},
   "outputs": [
    {
     "data": {
      "image/png": "[encoded data removed]",
      "text/plain": [
       "<Figure size 432x288 with 1 Axes>"
      ]
     },
     "metadata": {
      "needs_background": "light"
     },
     "output_type": "display_data"
    }
   ],
   "source": [
    "sns.barplot(x='Cluster', y='travel_spend_est', data=kmeans2, ci = None);"
   ]
  },
  {
   "cell_type": "markdown",
   "metadata": {},
   "source": [
    "When we look at this graph we see that cluster 3 does not like travelling at all. They are the only one that doesn't like to spend on travel. Cluster 0 and 1 absolutely love to spend on travelling these might be the people who loves to travel a lot and go to different places. Cluster 2 is again on the fence about spending too much on travelling that means they do love to travel but they are very particular when they are planning where to travel. The interesting part about this graph and the previous graph is that the cluster number 2 has totally different opinion about travelling and spending on entertainment. "
   ]
  },
  {
   "cell_type": "code",
   "execution_count": 119,
   "metadata": {},
   "outputs": [
    {
     "data": {
      "text/plain": [
       "<seaborn.axisgrid.FacetGrid at 0x7f9f90b93ee0>"
      ]
     },
     "execution_count": 119,
     "metadata": {},
     "output_type": "execute_result"
    },
    {
     "data": {
      "image/png": "[encoded data removed]",
      "text/plain": [
       "<Figure size 403.5x360 with 1 Axes>"
      ]
     },
     "metadata": {
      "needs_background": "light"
     },
     "output_type": "display_data"
    }
   ],
   "source": [
    "sns.displot(x = \"entertainment_spend_est\", y = 'household_income', hue = \"Cluster\", \n",
    "            palette = 'pastel',\n",
    "            data = kmeans2, discrete = True)"
   ]
  },
  {
   "cell_type": "markdown",
   "metadata": {},
   "source": [
    "This graph shows the relation between household income and how much people on the cluster spend on entertainment. By looking add this graph, we can say that in cluster number 3 is highly distributed on the graph and it is more in the lower end of the graph of both the variables, this tells us that people in cluster 3 does not have very high income and also does not like to spend much on their entertainment. Next cluster that is also distributed along the graph is this cluster number 2. People in cluster 2 do like to spend a lot on their entertainment but we can see from the graph that there are some people who even though have a higher income does not like to spend that much on their entertainment. Many people in this cluster also has less than mean household income but even after that they like to spend a lot on their entertainment. The cluster 0 has the highest household income and is distributed on the right side of the entertainment spending, people in this cluster does like to have entertainment in their lives. Cluster 1 is Not distributed / shown that much in this graph but we can see that people in the cluster two even though after having more than mean income they do not like to spend on entertainment.  "
   ]
  },
  {
   "cell_type": "code",
   "execution_count": 120,
   "metadata": {},
   "outputs": [],
   "source": [
    "extra = kmeans2.groupby('Cluster')[['square_foot', 'travel_spend_est']].mean()"
   ]
  },
  {
   "cell_type": "code",
   "execution_count": 121,
   "metadata": {},
   "outputs": [
    {
     "data": {
      "text/plain": [
       "<seaborn.axisgrid.FacetGrid at 0x7f9f910ee970>"
      ]
     },
     "execution_count": 121,
     "metadata": {},
     "output_type": "execute_result"
    },
    {
     "data": {
      "image/png": "[encoded data removed]",
      "text/plain": [
       "<Figure size 403.5x360 with 1 Axes>"
      ]
     },
     "metadata": {
      "needs_background": "light"
     },
     "output_type": "display_data"
    }
   ],
   "source": [
    "sns.relplot(x='square_foot', y='travel_spend_est', hue='Cluster',palette = 'pastel', data=extra)"
   ]
  },
  {
   "cell_type": "markdown",
   "metadata": {},
   "source": [
    "This is a scatterplot which shows us the relation of square footage and travels spending. By looking at this graph we can conclude that people who are in cluster 1 does not have a lot of square foot area and also does not like spending too much on travel. But the people in other cluster loves to spend on travel. People in cluster number 2 spends around average on travelling and has less than average square feet of area for them. And people in cluster number 0 they have about the average square feet area for them to live in but they love to travel a lot and spend a lot on travelling. Tell us that we were seeing a linear relationship being built in between square feet and travels pending but cluster number 1 shows us that there might be non linear relationship between square feet and travelling as people in cluster number to have a lot of square foot area to themselves but they tend to spend less on travel than cluster number 0.  "
   ]
  },
  {
   "cell_type": "code",
   "execution_count": 122,
   "metadata": {},
   "outputs": [
    {
     "data": {
      "text/plain": [
       "<seaborn.axisgrid.FacetGrid at 0x7f9f90fd7eb0>"
      ]
     },
     "execution_count": 122,
     "metadata": {},
     "output_type": "execute_result"
    },
    {
     "data": {
      "image/png": "[encoded data removed]",
      "text/plain": [
       "<Figure size 403.5x360 with 1 Axes>"
      ]
     },
     "metadata": {
      "needs_background": "light"
     },
     "output_type": "display_data"
    }
   ],
   "source": [
    "sns.displot(kmeans2, x=\"travel_spend_est\", hue=\"Cluster\", kind='kde', fill= True)"
   ]
  },
  {
   "cell_type": "markdown",
   "metadata": {},
   "source": [
    "From the above graph we can see that most of the clusters pile up to be together and has a peak almost around the average or above average for travel spending. The only cluster that has a higher peak less than average is cluster number 4 which tells us that people in cluster number four does not like to spend on travelling. Some of the people are slightly Above average and on average and like to spend on the travelling as you can see that the crew tosses of the cluster 4 is big. The highest peak among other cluster is with cluster number 3 along side 1 that is slightly more than average spending on travelling but not very high. "
   ]
  },
  {
   "cell_type": "code",
   "execution_count": 123,
   "metadata": {},
   "outputs": [],
   "source": [
    "travel = kmeans2[(kmeans2.Cluster == 0) | (kmeans2.Cluster == 1)]"
   ]
  },
  {
   "cell_type": "code",
   "execution_count": 124,
   "metadata": {},
   "outputs": [
    {
     "data": {
      "text/plain": [
       "1    3522\n",
       "0    3404\n",
       "2       0\n",
       "3       0\n",
       "Name: Cluster, dtype: int64"
      ]
     },
     "execution_count": 124,
     "metadata": {},
     "output_type": "execute_result"
    }
   ],
   "source": [
    "travel['Cluster'].value_counts()"
   ]
  },
  {
   "cell_type": "code",
   "execution_count": 125,
   "metadata": {},
   "outputs": [
    {
     "data": {
      "text/plain": [
       "<seaborn.axisgrid.FacetGrid at 0x7f9f90e35610>"
      ]
     },
     "execution_count": 125,
     "metadata": {},
     "output_type": "execute_result"
    },
    {
     "data": {
      "image/png": "[encoded data removed]",
      "text/plain": [
       "<Figure size 403.5x360 with 1 Axes>"
      ]
     },
     "metadata": {
      "needs_background": "light"
     },
     "output_type": "display_data"
    }
   ],
   "source": [
    "sns.displot(x = \"travel_spend_est\", hue = \"Cluster\",bins = 6, \n",
    "            palette = 'pastel', multiple = \"fill\", data =  travel)"
   ]
  },
  {
   "cell_type": "markdown",
   "metadata": {},
   "source": [
    "From this plot we can see that there is a higher variants within the travel spending in cluster number 1 and cluster number 0 is more dense towords middle of the graph. Close to 0 is more dense on the edges of the travel spending and has less denscity in the middle. This means people in cluster one should be carefully approached while talking about spending on travel.  "
   ]
  },
  {
   "cell_type": "code",
   "execution_count": null,
   "metadata": {},
   "outputs": [],
   "source": []
  },
  {
   "cell_type": "code",
   "execution_count": null,
   "metadata": {},
   "outputs": [],
   "source": []
  },
  {
   "cell_type": "code",
   "execution_count": null,
   "metadata": {},
   "outputs": [],
   "source": []
  },
  {
   "cell_type": "code",
   "execution_count": null,
   "metadata": {},
   "outputs": [],
   "source": []
  },
  {
   "cell_type": "code",
   "execution_count": null,
   "metadata": {},
   "outputs": [],
   "source": []
  }
 ],
 "metadata": {
  "colab": {
   "collapsed_sections": [],
   "name": "“Portland_Calling_festival_Vendor_analysis.ipynb”的副本",
   "provenance": []
  },
  "kernelspec": {
   "display_name": "Python 3 (ipykernel)",
   "language": "python",
   "name": "python3"
  },
  "language_info": {
   "codemirror_mode": {
    "name": "ipython",
    "version": 3
   },
   "file_extension": ".py",
   "mimetype": "text/x-python",
   "name": "python",
   "nbconvert_exporter": "python",
   "pygments_lexer": "ipython3",
   "version": "3.9.7"
  }
 },
 "nbformat": 4,
 "nbformat_minor": 1
}
